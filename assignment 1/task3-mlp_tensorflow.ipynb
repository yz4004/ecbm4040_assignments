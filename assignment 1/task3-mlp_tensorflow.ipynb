{
 "cells": [
  {
   "cell_type": "markdown",
   "metadata": {},
   "source": [
    "## Columbia University\n",
    "### ECBM E4040 Neural Networks and Deep Learning. Fall 2021."
   ]
  },
  {
   "cell_type": "markdown",
   "metadata": {
    "colab_type": "text",
    "id": "Qe6yTh55trpQ"
   },
   "source": [
    "# Assignment 1, Task 3: Multilayer Perceptron (MLP)\n",
    "This is the third part of the assignment. You will get to implement MLP using tensorflow"
   ]
  },
  {
   "cell_type": "code",
   "execution_count": 1,
   "metadata": {
    "colab": {},
    "colab_type": "code",
    "id": "7Vs2WYIFtrpS",
    "tags": []
   },
   "outputs": [],
   "source": [
    "# Import modules\n",
    "from __future__ import print_function\n",
    "import tensorflow as tf\n",
    "import numpy as np\n",
    "import time\n",
    "import os\n",
    "import matplotlib.pyplot as plt\n",
    "import pickle\n",
    "\n",
    "from tensorflow.keras.datasets import fashion_mnist\n",
    "\n",
    "# Plot configurations\n",
    "%matplotlib inline\n",
    "\n",
    "# Notebook auto reloads code. (Ref: http://stackoverflow.com/questions/1907993/autoreload-of-modules-in-ipython)\n",
    "%load_ext autoreload\n",
    "%autoreload 2"
   ]
  },
  {
   "cell_type": "markdown",
   "metadata": {
    "colab_type": "text",
    "id": "3gYnTjputrpV"
   },
   "source": [
    "## Load Data"
   ]
  },
  {
   "cell_type": "code",
   "execution_count": 2,
   "metadata": {
    "colab": {
     "base_uri": "https://localhost:8080/",
     "height": 168
    },
    "colab_type": "code",
    "id": "I31uJ6KltrpW",
    "outputId": "1a677958-43ca-422c-ec66-38e8cdff4283",
    "tags": []
   },
   "outputs": [
    {
     "name": "stdout",
     "output_type": "stream",
     "text": [
      "(49000, 784) (1000, 784) (10000, 784) (100, 784)\n",
      "Train data shape:  (49000, 784)\n",
      "Train labels shape:  (49000,)\n",
      "Validation data shape:  (1000, 784)\n",
      "Validation labels shape:  (1000,)\n",
      "Test data shape:  (10000, 784)\n",
      "Test labels shape:  (10000,)\n",
      "Development data shape: (100, 784)\n",
      "Development data shape (100,)\n"
     ]
    }
   ],
   "source": [
    "# Load the raw Fashion-MNIST data.\n",
    "train, test = fashion_mnist.load_data()\n",
    "\n",
    "X_train_raw, y_train = train\n",
    "X_test_raw, y_test = test\n",
    "\n",
    "X_train = X_train_raw.reshape((X_train_raw.shape[0], X_train_raw.shape[1]**2))\n",
    "X_test = X_test_raw.reshape((X_test_raw.shape[0], X_test_raw.shape[1]**2))\n",
    "\n",
    "# Data organizations:\n",
    "# Train data: 49000 samples from original train set: 1~49,000\n",
    "# Validation data: 1000 samples from original train set: 49,000~50,000\n",
    "# Test data: 10000 samples from original test set: 1~10,000\n",
    "# Development data (for gradient check): 100 from the train set: 1~49,000\n",
    "num_training = 49000\n",
    "num_validation = 1000\n",
    "num_dev = 100\n",
    "\n",
    "X_val = X_train[-num_validation:, :]\n",
    "y_val = y_train[-num_validation:]\n",
    "\n",
    "mask = np.random.choice(num_training, num_dev, replace=False)\n",
    "X_dev = X_train[mask]\n",
    "y_dev = y_train[mask]\n",
    "\n",
    "X_train = X_train[:num_training, :]\n",
    "y_train = y_train[:num_training]\n",
    "\n",
    "# Preprocessing: subtract the mean value across every dimension for training data\n",
    "mean_image = np.mean(X_train, axis=0)\n",
    "\n",
    "X_train = X_train.astype(np.float32) - mean_image.astype(np.float32)\n",
    "X_val = X_val.astype(np.float32) - mean_image\n",
    "X_test = X_test.astype(np.float32) - mean_image\n",
    "X_dev = X_dev.astype(np.float32) - mean_image\n",
    "\n",
    "print(X_train.shape, X_val.shape, X_test.shape, X_dev.shape)\n",
    "print('Train data shape: ', X_train.shape)\n",
    "print('Train labels shape: ', y_train.shape)\n",
    "print('Validation data shape: ', X_val.shape)\n",
    "print('Validation labels shape: ', y_val.shape)\n",
    "print('Test data shape: ', X_test.shape)\n",
    "print('Test labels shape: ', y_test.shape)\n",
    "print('Development data shape:', X_dev.shape)\n",
    "print('Development data shape', y_dev.shape)"
   ]
  },
  {
   "cell_type": "markdown",
   "metadata": {
    "colab_type": "text",
    "id": "xa_w8ZHbtrqY"
   },
   "source": [
    "## Part 1: Tensorflow MLP\n",
    "In this part, you will use tensorflow modules to implement a MLP. We provide a demo of a two-layer net, of which style is referred to https://www.tensorflow.org/guide/keras, and https://www.tensorflow.org/guide/eager. \n",
    "\n",
    "You need to implement a multi-layer with 3 layers in a similar style."
   ]
  },
  {
   "cell_type": "markdown",
   "metadata": {},
   "source": [
    "### Demo: Two-layer MLP in Tensorflow"
   ]
  },
  {
   "cell_type": "code",
   "execution_count": 3,
   "metadata": {
    "colab": {
     "base_uri": "https://localhost:8080/",
     "height": 202
    },
    "colab_type": "code",
    "id": "-0xQOzpdtrqZ",
    "outputId": "212defc2-2cd6-406f-affe-9c6c7367e87f",
    "tags": []
   },
   "outputs": [
    {
     "name": "stdout",
     "output_type": "stream",
     "text": [
      "epoch 1: valid acc = 0.7350000143051147\n",
      "epoch 2: valid acc = 0.7940000295639038\n",
      "epoch 3: valid acc = 0.8320000171661377\n",
      "epoch 4: valid acc = 0.8460000157356262\n",
      "epoch 5: valid acc = 0.8510000109672546\n",
      "epoch 6: valid acc = 0.8569999933242798\n",
      "epoch 7: valid acc = 0.8610000014305115\n",
      "epoch 8: valid acc = 0.8709999918937683\n",
      "epoch 9: valid acc = 0.871999979019165\n",
      "epoch 10: valid acc = 0.8769999742507935\n",
      "epoch 11: valid acc = 0.8769999742507935\n",
      "epoch 12: valid acc = 0.8790000081062317\n",
      "test acc = 0.857699990272522\n",
      "train acc = 0.8799796104431152\n"
     ]
    }
   ],
   "source": [
    "## Demo: Two-layer net in tensorflow (eager execution mode)\n",
    "hidden_dim = 300\n",
    "reg_tf = tf.constant(0.01)\n",
    "\n",
    "# define a tf.keras.Model class\n",
    "class Model(tf.keras.Model):\n",
    "    def __init__(self):\n",
    "        super(Model, self).__init__()\n",
    "        self.W1 = tf.Variable(1e-2*np.random.rand(X_train.shape[1], hidden_dim).astype('float32'))\n",
    "        self.b1 = tf.Variable(np.zeros((hidden_dim,)).astype('float32'))\n",
    "        self.W2 = tf.Variable(1e-2*np.random.rand(hidden_dim, 20).astype('float32'))\n",
    "        self.b2 = tf.Variable(np.zeros((20,)).astype('float32'))\n",
    "    def call(self, inputs):\n",
    "        \"\"\"Run the model.\"\"\"\n",
    "        h1 = tf.nn.relu(tf.matmul(inputs, self.W1) + self.b1)\n",
    "        out = tf.matmul(h1, self.W2) + self.b2\n",
    "        return out\n",
    "\n",
    "# Define and calculate loss function (Note that in eager execution, loss must be in a function)\n",
    "def loss(model, inputs, targets, reg = tf.constant(0.01)):\n",
    "    out = model(inputs)\n",
    "    cross_entropy = tf.nn.softmax_cross_entropy_with_logits(logits= out, labels=tf.one_hot(targets,20))\n",
    "    L2_loss = tf.nn.l2_loss(model.W1) + tf.nn.l2_loss(model.W2)\n",
    "    return tf.reduce_mean(cross_entropy) + reg * L2_loss\n",
    "\n",
    "# calculate gradients for all variables using tf.GradientTape\n",
    "def grad(model, inputs, targets, reg = tf.constant(0.01)):\n",
    "    with tf.GradientTape() as tape:\n",
    "        loss_value = loss(model, inputs, targets, reg=reg)\n",
    "    return tape.gradient(loss_value, [model.W1, model.b1, model.W2, model.b2])\n",
    "\n",
    "# calculate classification accuracy\n",
    "def eval_acc(model, inputs, targets):\n",
    "    correct_prediction = tf.equal(targets, tf.cast(tf.argmax(model(inputs),1), tf.uint8))\n",
    "    accuracy = tf.reduce_mean(tf.cast(correct_prediction, tf.float32))\n",
    "    return accuracy\n",
    "\n",
    "num_train = 49000\n",
    "batch_size = 500\n",
    "num_batch = num_train//batch_size\n",
    "num_epochs = 12\n",
    "model = Model()\n",
    "optimizer = tf.keras.optimizers.SGD(learning_rate=1e-3)\n",
    "\n",
    "for e in range(num_epochs):\n",
    "    for i in range(num_batch):\n",
    "        batch_xs, batch_ys = X_train[i*batch_size:(i+1)*batch_size], y_train[i*batch_size:(i+1)*batch_size]\n",
    "        x_tf = tf.Variable(batch_xs, dtype = tf.float32)\n",
    "        y_tf = tf.Variable(batch_ys, dtype = tf.uint8)\n",
    "        \n",
    "        grads = grad(model, x_tf, y_tf, reg_tf)\n",
    "        #optimization based on calculated gradients \n",
    "        optimizer.apply_gradients(zip(grads, [model.W1, model.b1, model.W2, model.b2]))\n",
    "\n",
    "    x_tf = tf.Variable(X_val, dtype = tf.float32)\n",
    "    y_tf = tf.Variable(y_val, dtype = tf.uint8)\n",
    "    accuracy = eval_acc(model, x_tf, y_tf)\n",
    "    val_acc = accuracy.numpy()\n",
    "    print('epoch {}: valid acc = {}'.format(e+1, val_acc))\n",
    "\n",
    "x_tf = tf.Variable(X_test, dtype = tf.float32)\n",
    "y_tf = tf.Variable(y_test, dtype = tf.uint8)\n",
    "accuracy = eval_acc(model, x_tf, y_tf)\n",
    "test_acc = accuracy.numpy()\n",
    "print('test acc = {}'.format(test_acc))\n",
    "\n",
    "x_tf = tf.Variable(X_train, dtype = tf.float32)\n",
    "y_tf = tf.Variable(y_train, dtype = tf.uint8)\n",
    "train_accuracy = eval_acc(model, x_tf, y_tf)\n",
    "train_acc = train_accuracy.numpy()\n",
    "print('train acc = {}'.format(train_acc))"
   ]
  },
  {
   "cell_type": "code",
   "execution_count": 4,
   "metadata": {},
   "outputs": [],
   "source": [
    "# for lr in [0.1,0.01,0.001,0.0001]:\n",
    "#     for e in range(num_epochs):\n",
    "#         for i in range(num_batch):\n",
    "#             batch_xs, batch_ys = X_train[i*batch_size:(i+1)*batch_size], y_train[i*batch_size:(i+1)*batch_size]\n",
    "#             x_tf = tf.Variable(batch_xs, dtype = tf.float32)\n",
    "#             y_tf = tf.Variable(batch_ys, dtype = tf.uint8)\n",
    "        \n",
    "#             grads = grad(model, x_tf, y_tf, reg_tf)\n",
    "#             #optimization based on calculated gradients \n",
    "#             optimizer.apply_gradients(zip(grads, [model.W1, model.b1, model.W2, model.b2]))\n",
    "\n",
    "#         x_tf = tf.Variable(X_val, dtype = tf.float32)\n",
    "#         y_tf = tf.Variable(y_val, dtype = tf.uint8)\n",
    "#         accuracy = eval_acc(model, x_tf, y_tf)\n",
    "#         val_acc = accuracy.numpy()\n",
    "#         print('epoch {}: valid acc = {}'.format(e+1, val_acc))\n",
    "\n",
    "#     x_tf = tf.Variable(X_test, dtype = tf.float32)\n",
    "#     y_tf = tf.Variable(y_test, dtype = tf.uint8)\n",
    "#     accuracy = eval_acc(model, x_tf, y_tf)\n",
    "#     test_acc = accuracy.numpy()\n",
    "#     print('test acc = {}'.format(test_acc))\n",
    "\n",
    "#     x_tf = tf.Variable(X_train, dtype = tf.float32)\n",
    "#     y_tf = tf.Variable(y_train, dtype = tf.uint8)\n",
    "#     train_accuracy = eval_acc(model, x_tf, y_tf)\n",
    "#     train_acc = train_accuracy.numpy()\n",
    "#     print('train acc = {}'.format(train_acc))"
   ]
  },
  {
   "cell_type": "markdown",
   "metadata": {},
   "source": [
    "### Create Deeper Network"
   ]
  },
  {
   "cell_type": "markdown",
   "metadata": {
    "colab_type": "text",
    "id": "YmSduBmytrqb"
   },
   "source": [
    "<span style=\"color:red\"><strong>TODO</strong></span>: Create your MLP in tensorflow. Since you are going to create a deeper neural network, it is recommended to use \"list\" to store your network parameters (weights and bias). Consider using a loop to create your MLP network. Hint: Copy the above code and make necessary changes in model definition."
   ]
  },
  {
   "cell_type": "markdown",
   "metadata": {
    "colab_type": "text",
    "id": "G-IVbxrEtrqd"
   },
   "source": [
    "<span style=\"color:red\"><strong>Solution</strong></span>:"
   ]
  },
  {
   "cell_type": "code",
   "execution_count": 5,
   "metadata": {
    "colab": {
     "base_uri": "https://localhost:8080/",
     "height": 202
    },
    "colab_type": "code",
    "id": "vtvnD-0Ptrqe",
    "outputId": "36115ca9-50dd-459d-f7f4-5b62cddd2577",
    "tags": []
   },
   "outputs": [
    {
     "name": "stdout",
     "output_type": "stream",
     "text": [
      "epoch 1: valid acc = 0.25200000405311584\n",
      "epoch 2: valid acc = 0.382999986410141\n",
      "epoch 3: valid acc = 0.4169999957084656\n",
      "epoch 4: valid acc = 0.48100000619888306\n",
      "epoch 5: valid acc = 0.5529999732971191\n",
      "epoch 6: valid acc = 0.5559999942779541\n",
      "epoch 7: valid acc = 0.6029999852180481\n",
      "epoch 8: valid acc = 0.5830000042915344\n",
      "epoch 9: valid acc = 0.6399999856948853\n",
      "epoch 10: valid acc = 0.6880000233650208\n",
      "epoch 11: valid acc = 0.7139999866485596\n",
      "epoch 12: valid acc = 0.7239999771118164\n",
      "epoch 13: valid acc = 0.7300000190734863\n",
      "epoch 14: valid acc = 0.7450000047683716\n",
      "epoch 15: valid acc = 0.7590000033378601\n",
      "epoch 16: valid acc = 0.7720000147819519\n",
      "epoch 17: valid acc = 0.777999997138977\n",
      "epoch 18: valid acc = 0.7789999842643738\n",
      "epoch 19: valid acc = 0.7879999876022339\n",
      "epoch 20: valid acc = 0.7950000166893005\n",
      "epoch 21: valid acc = 0.8029999732971191\n",
      "epoch 22: valid acc = 0.8130000233650208\n",
      "epoch 23: valid acc = 0.8140000104904175\n",
      "epoch 24: valid acc = 0.8190000057220459\n",
      "epoch 25: valid acc = 0.8209999799728394\n",
      "epoch 26: valid acc = 0.824999988079071\n",
      "epoch 27: valid acc = 0.8299999833106995\n",
      "epoch 28: valid acc = 0.8330000042915344\n",
      "epoch 29: valid acc = 0.8349999785423279\n",
      "epoch 30: valid acc = 0.8389999866485596\n",
      "epoch 31: valid acc = 0.8389999866485596\n",
      "epoch 32: valid acc = 0.8399999737739563\n",
      "epoch 33: valid acc = 0.8389999866485596\n",
      "epoch 34: valid acc = 0.8410000205039978\n",
      "epoch 35: valid acc = 0.8399999737739563\n",
      "epoch 36: valid acc = 0.8389999866485596\n",
      "epoch 37: valid acc = 0.8410000205039978\n",
      "epoch 38: valid acc = 0.8389999866485596\n",
      "epoch 39: valid acc = 0.8399999737739563\n",
      "epoch 40: valid acc = 0.8389999866485596\n",
      "epoch 41: valid acc = 0.8399999737739563\n",
      "epoch 42: valid acc = 0.8399999737739563\n",
      "epoch 43: valid acc = 0.8399999737739563\n",
      "epoch 44: valid acc = 0.8410000205039978\n",
      "epoch 45: valid acc = 0.8410000205039978\n",
      "epoch 46: valid acc = 0.8410000205039978\n",
      "epoch 47: valid acc = 0.8410000205039978\n",
      "epoch 48: valid acc = 0.8410000205039978\n",
      "epoch 49: valid acc = 0.843999981880188\n",
      "epoch 50: valid acc = 0.8429999947547913\n",
      "test acc = 0.8417999744415283\n",
      "train acc = 0.8621020317077637\n"
     ]
    }
   ],
   "source": [
    "\n",
    "hidden_dims = [128,256,256]\n",
    "reg_tf = tf.constant(0.001)\n",
    "\n",
    "# define a tf.keras.Model class\n",
    "class DeeperModel(tf.keras.Model):\n",
    "    def __init__(self):\n",
    "        super(DeeperModel, self).__init__()\n",
    "        \n",
    "#         self.W1 = tf.Variable(1e-2*np.random.rand(X_train.shape[1], hidden_dims[0]).astype('float32'))\n",
    "#         self.b1 = tf.Variable(np.zeros((hidden_dims[0],)).astype('float32'))\n",
    "        \n",
    "#         self.W2 = tf.Variable(1e-2*np.random.rand(hidden_dims[0], hidden_dims[1]).astype('float32'))\n",
    "#         self.b2 = tf.Variable(np.zeros((hidden_dims[1],)).astype('float32'))\n",
    "        \n",
    "#         self.W3 = tf.Variable(1e-2*np.random.rand(hidden_dims[1], hidden_dims[2]).astype('float32'))\n",
    "#         self.b3 = tf.Variable(np.zeros((hidden_dims[2],)).astype('float32'))\n",
    "        \n",
    "#         self.W4 = tf.Variable(1e-2*np.random.rand(hidden_dims[2], 20).astype('float32'))\n",
    "#         self.b4 = tf.Variable(np.zeros((20,)).astype('float32'))\n",
    "        \n",
    "        self.depth = len(hidden_dims)\n",
    "        self.params = []\n",
    "        for i in range(0,self.depth):\n",
    "            if i == 0:\n",
    "                self.params.append(tf.Variable(1e-2*np.random.rand(X_train.shape[1], hidden_dims[0]).astype('float32')))\n",
    "                self.params.append(tf.Variable(np.zeros((hidden_dims[0],)).astype('float32')))\n",
    "            elif i == self.depth-1:\n",
    "                self.params.append(tf.Variable(1e-2*np.random.rand(hidden_dims[i-1], 20).astype('float32')))\n",
    "                self.params.append(tf.Variable(np.zeros((20,)).astype('float32')))\n",
    "            else:\n",
    "                self.params.append(tf.Variable(1e-2*np.random.rand(hidden_dims[i-1], hidden_dims[i]).astype('float32')))\n",
    "                self.params.append(tf.Variable(np.zeros((hidden_dims[i],)).astype('float32')) )\n",
    "        # print(self.params)\n",
    "        \n",
    "#         for p in self.params:\n",
    "#             print(p.shape)\n",
    "        \n",
    "        \n",
    "        \n",
    "    def call(self, inputs):\n",
    "        \"\"\"Run the model.\"\"\"\n",
    "#         h1 = tf.nn.relu(tf.matmul(inputs, self.W1) + self.b1)\n",
    "#         h2 = tf.nn.relu(tf.matmul(h1, self.W2) + self.b2)\n",
    "#         h3 = tf.nn.relu(tf.matmul(h2, self.W3) + self.b3)\n",
    "#         out = tf.matmul(h3, self.W4) + self.b4\n",
    "        \n",
    "        for i in range(0, 2*self.depth, 2):\n",
    "            if i == 0:\n",
    "                h = tf.nn.relu(tf.matmul(inputs, self.params[0]) + self.params[1])\n",
    "            elif i == 2*self.depth-2:\n",
    "                out = tf.matmul(h, self.params[i]) + self.params[i+1]\n",
    "            else:\n",
    "                h = tf.nn.relu(tf.matmul(h, self.params[i]) + self.params[i+1])\n",
    "        \n",
    "        \n",
    "        return out\n",
    "\n",
    "# Define and calculate loss function (Note that in eager execution, loss must be in a function)\n",
    "def loss(model, inputs, targets, reg = tf.constant(0.01)):\n",
    "    out = model(inputs)\n",
    "    cross_entropy = tf.nn.softmax_cross_entropy_with_logits(logits= out, labels=tf.one_hot(targets,20))\n",
    "    # L2_loss = tf.nn.l2_loss(model.W1)+tf.nn.l2_loss(model.W2)+tf.nn.l2_loss(model.W3)+tf.nn.l2_loss(model.W4)\n",
    "    L2_loss = tf.nn.l2_loss(model.params[0])\n",
    "    for i in range(2,2*model.depth,2):\n",
    "        L2_loss = L2_loss + tf.nn.l2_loss(model.params[i])\n",
    "    \n",
    "    return tf.reduce_mean(cross_entropy) + reg * L2_loss\n",
    "\n",
    "# calculate gradients for all variables using tf.GradientTape\n",
    "def grad(model, inputs, targets, reg = tf.constant(0.01)):\n",
    "    with tf.GradientTape() as tape:\n",
    "        loss_value = loss(model, inputs, targets, reg=reg)\n",
    "        # print(loss_value)\n",
    "    # return tape.gradient(loss_value, [model.W1, model.b1, model.W2, model.b2, model.W3, model.b3, model.W4, model.b4])\n",
    "    return tape.gradient(loss_value, model.params )\n",
    "\n",
    "# calculate classification accuracy\n",
    "def eval_acc(model, inputs, targets):\n",
    "    correct_prediction = tf.equal(targets, tf.cast(tf.argmax(model(inputs),1), tf.uint8))\n",
    "    accuracy = tf.reduce_mean(tf.cast(correct_prediction, tf.float32))\n",
    "    return accuracy\n",
    "\n",
    "num_train = 49000\n",
    "batch_size = 500\n",
    "num_batch = num_train//batch_size\n",
    "num_epochs = 50\n",
    "model = DeeperModel()\n",
    "optimizer = tf.keras.optimizers.SGD(learning_rate=1e-3)\n",
    "\n",
    "for e in range(num_epochs):\n",
    "    for i in range(num_batch):\n",
    "        batch_xs, batch_ys = X_train[i*batch_size:(i+1)*batch_size], y_train[i*batch_size:(i+1)*batch_size]\n",
    "        x_tf = tf.Variable(batch_xs, dtype = tf.float32)\n",
    "        y_tf = tf.Variable(batch_ys, dtype = tf.uint8)\n",
    "        \n",
    "        grads = grad(model, x_tf, y_tf, reg_tf)\n",
    "        #optimization based on calculated gradients \n",
    "        optimizer.apply_gradients(zip(grads, model.params))\n",
    "\n",
    "    x_tf = tf.Variable(X_val, dtype = tf.float32)\n",
    "    y_tf = tf.Variable(y_val, dtype = tf.uint8)\n",
    "    accuracy = eval_acc(model, x_tf, y_tf)\n",
    "    val_acc = accuracy.numpy()\n",
    "    print('epoch {}: valid acc = {}'.format(e+1, val_acc))\n",
    "\n",
    "x_tf = tf.Variable(X_test, dtype = tf.float32)\n",
    "y_tf = tf.Variable(y_test, dtype = tf.uint8)\n",
    "accuracy = eval_acc(model, x_tf, y_tf)\n",
    "test_acc = accuracy.numpy()\n",
    "print('test acc = {}'.format(test_acc))\n",
    "\n",
    "\n",
    "x_tf = tf.Variable(X_train, dtype = tf.float32)\n",
    "y_tf = tf.Variable(y_train, dtype = tf.uint8)\n",
    "train_accuracy = eval_acc(model, x_tf, y_tf)\n",
    "train_acc = train_accuracy.numpy()\n",
    "print('train acc = {}'.format(train_acc))"
   ]
  },
  {
   "cell_type": "markdown",
   "metadata": {},
   "source": [
    "### Introduction to TensorFlow.keras\n",
    "\n",
    "As you can see, when the network structure becomes larger, it is hard to handle variables from every layer. Here we introduce the `tf.keras` tool to build the network in a much simpler way. You may want to use it in your project."
   ]
  },
  {
   "cell_type": "markdown",
   "metadata": {},
   "source": [
    "<span style=\"color:red\"><strong>TODO</strong></span>: Follow this official example: https://www.tensorflow.org/datasets/keras_example#step_2_create_and_train_the_model to build an MLP and train it. \n",
    "\n",
    "*You should keep the same optimizer (SGD) and loss function (cross entropy) as in the previous task.*\n",
    "\n",
    "**Note:** Since we want to use our own dataset, we will not use the `tfds.load` method to load the data this time. \n",
    "\n",
    "You need to check the usage of [`model.fit()`](https://www.tensorflow.org/api_docs/python/tf/keras/Model#fit) and feed the model with our own data.\n",
    "\n",
    "**Tips:**\n",
    "* Softmax is also registered as a layer operation in tf.keras.\n",
    "* You can use `model.summary()` to visualize the model after you build it.\n",
    "* Use `verbose=2` in `model.fit()` to get similar training logs"
   ]
  },
  {
   "cell_type": "markdown",
   "metadata": {},
   "source": [
    "<span style=\"color:red\"><strong>SOLUTION</strong></span>:"
   ]
  },
  {
   "cell_type": "code",
   "execution_count": 6,
   "metadata": {
    "scrolled": true
   },
   "outputs": [
    {
     "name": "stdout",
     "output_type": "stream",
     "text": [
      "Epoch 1/50\n"
     ]
    },
    {
     "name": "stderr",
     "output_type": "stream",
     "text": [
      "C:\\Users\\31557\\anaconda3\\lib\\site-packages\\tensorflow\\python\\util\\dispatch.py:1096: UserWarning: \"`sparse_categorical_crossentropy` received `from_logits=True`, but the `output` argument was produced by a sigmoid or softmax activation and thus does not represent logits. Was this intended?\"\n",
      "  return dispatch_target(*args, **kwargs)\n"
     ]
    },
    {
     "name": "stdout",
     "output_type": "stream",
     "text": [
      "98/98 - 1s - loss: 6.6642 - sparse_categorical_accuracy: 0.6794 - val_loss: 3.1053 - val_sparse_categorical_accuracy: 0.7680 - 758ms/epoch - 8ms/step\n",
      "Epoch 2/50\n",
      "98/98 - 0s - loss: 2.9083 - sparse_categorical_accuracy: 0.7658 - val_loss: 2.5112 - val_sparse_categorical_accuracy: 0.7870 - 386ms/epoch - 4ms/step\n",
      "Epoch 3/50\n",
      "98/98 - 0s - loss: 2.3679 - sparse_categorical_accuracy: 0.7851 - val_loss: 2.3679 - val_sparse_categorical_accuracy: 0.7930 - 373ms/epoch - 4ms/step\n",
      "Epoch 4/50\n",
      "98/98 - 0s - loss: 2.0482 - sparse_categorical_accuracy: 0.8016 - val_loss: 2.0892 - val_sparse_categorical_accuracy: 0.7980 - 378ms/epoch - 4ms/step\n",
      "Epoch 5/50\n",
      "98/98 - 0s - loss: 1.8557 - sparse_categorical_accuracy: 0.8123 - val_loss: 2.0479 - val_sparse_categorical_accuracy: 0.7930 - 381ms/epoch - 4ms/step\n",
      "Epoch 6/50\n",
      "98/98 - 0s - loss: 1.7179 - sparse_categorical_accuracy: 0.8202 - val_loss: 2.0356 - val_sparse_categorical_accuracy: 0.7940 - 377ms/epoch - 4ms/step\n",
      "Epoch 7/50\n",
      "98/98 - 0s - loss: 1.6057 - sparse_categorical_accuracy: 0.8280 - val_loss: 1.8581 - val_sparse_categorical_accuracy: 0.8090 - 381ms/epoch - 4ms/step\n",
      "Epoch 8/50\n",
      "98/98 - 0s - loss: 1.5185 - sparse_categorical_accuracy: 0.8338 - val_loss: 1.8557 - val_sparse_categorical_accuracy: 0.8000 - 378ms/epoch - 4ms/step\n",
      "Epoch 9/50\n",
      "98/98 - 0s - loss: 1.4431 - sparse_categorical_accuracy: 0.8406 - val_loss: 1.8013 - val_sparse_categorical_accuracy: 0.8100 - 479ms/epoch - 5ms/step\n",
      "Epoch 10/50\n",
      "98/98 - 0s - loss: 1.3866 - sparse_categorical_accuracy: 0.8464 - val_loss: 1.7444 - val_sparse_categorical_accuracy: 0.8140 - 465ms/epoch - 5ms/step\n",
      "Epoch 11/50\n",
      "98/98 - 0s - loss: 1.3303 - sparse_categorical_accuracy: 0.8514 - val_loss: 1.7555 - val_sparse_categorical_accuracy: 0.8120 - 381ms/epoch - 4ms/step\n",
      "Epoch 12/50\n",
      "98/98 - 0s - loss: 1.2864 - sparse_categorical_accuracy: 0.8569 - val_loss: 1.7057 - val_sparse_categorical_accuracy: 0.8130 - 383ms/epoch - 4ms/step\n",
      "Epoch 13/50\n",
      "98/98 - 0s - loss: 1.2475 - sparse_categorical_accuracy: 0.8610 - val_loss: 1.7405 - val_sparse_categorical_accuracy: 0.8050 - 361ms/epoch - 4ms/step\n",
      "Epoch 14/50\n",
      "98/98 - 0s - loss: 1.2154 - sparse_categorical_accuracy: 0.8645 - val_loss: 1.6774 - val_sparse_categorical_accuracy: 0.8220 - 389ms/epoch - 4ms/step\n",
      "Epoch 15/50\n",
      "98/98 - 0s - loss: 1.1808 - sparse_categorical_accuracy: 0.8709 - val_loss: 1.6829 - val_sparse_categorical_accuracy: 0.8180 - 380ms/epoch - 4ms/step\n",
      "Epoch 16/50\n",
      "98/98 - 0s - loss: 1.1559 - sparse_categorical_accuracy: 0.8733 - val_loss: 1.6509 - val_sparse_categorical_accuracy: 0.8180 - 400ms/epoch - 4ms/step\n",
      "Epoch 17/50\n",
      "98/98 - 1s - loss: 1.1315 - sparse_categorical_accuracy: 0.8769 - val_loss: 1.6234 - val_sparse_categorical_accuracy: 0.8090 - 512ms/epoch - 5ms/step\n",
      "Epoch 18/50\n",
      "98/98 - 0s - loss: 1.1087 - sparse_categorical_accuracy: 0.8812 - val_loss: 1.6106 - val_sparse_categorical_accuracy: 0.8120 - 386ms/epoch - 4ms/step\n",
      "Epoch 19/50\n",
      "98/98 - 0s - loss: 1.0860 - sparse_categorical_accuracy: 0.8851 - val_loss: 1.6139 - val_sparse_categorical_accuracy: 0.8270 - 397ms/epoch - 4ms/step\n",
      "Epoch 20/50\n",
      "98/98 - 0s - loss: 1.0711 - sparse_categorical_accuracy: 0.8872 - val_loss: 1.5957 - val_sparse_categorical_accuracy: 0.8160 - 384ms/epoch - 4ms/step\n",
      "Epoch 21/50\n",
      "98/98 - 0s - loss: 1.0522 - sparse_categorical_accuracy: 0.8917 - val_loss: 1.6261 - val_sparse_categorical_accuracy: 0.8120 - 384ms/epoch - 4ms/step\n",
      "Epoch 22/50\n",
      "98/98 - 0s - loss: 1.0376 - sparse_categorical_accuracy: 0.8928 - val_loss: 1.5723 - val_sparse_categorical_accuracy: 0.8160 - 391ms/epoch - 4ms/step\n",
      "Epoch 23/50\n",
      "98/98 - 0s - loss: 1.0249 - sparse_categorical_accuracy: 0.8964 - val_loss: 1.6003 - val_sparse_categorical_accuracy: 0.8140 - 385ms/epoch - 4ms/step\n",
      "Epoch 24/50\n",
      "98/98 - 0s - loss: 1.0100 - sparse_categorical_accuracy: 0.8996 - val_loss: 1.5767 - val_sparse_categorical_accuracy: 0.8190 - 392ms/epoch - 4ms/step\n",
      "Epoch 25/50\n",
      "98/98 - 0s - loss: 0.9977 - sparse_categorical_accuracy: 0.9020 - val_loss: 1.5592 - val_sparse_categorical_accuracy: 0.8130 - 378ms/epoch - 4ms/step\n",
      "Epoch 26/50\n",
      "98/98 - 0s - loss: 0.9842 - sparse_categorical_accuracy: 0.9041 - val_loss: 1.5697 - val_sparse_categorical_accuracy: 0.8150 - 398ms/epoch - 4ms/step\n",
      "Epoch 27/50\n",
      "98/98 - 0s - loss: 0.9722 - sparse_categorical_accuracy: 0.9080 - val_loss: 1.5731 - val_sparse_categorical_accuracy: 0.8140 - 399ms/epoch - 4ms/step\n",
      "Epoch 28/50\n",
      "98/98 - 0s - loss: 0.9625 - sparse_categorical_accuracy: 0.9094 - val_loss: 1.5477 - val_sparse_categorical_accuracy: 0.8120 - 371ms/epoch - 4ms/step\n",
      "Epoch 29/50\n",
      "98/98 - 0s - loss: 0.9549 - sparse_categorical_accuracy: 0.9102 - val_loss: 1.5784 - val_sparse_categorical_accuracy: 0.8160 - 377ms/epoch - 4ms/step\n",
      "Epoch 30/50\n",
      "98/98 - 0s - loss: 0.9489 - sparse_categorical_accuracy: 0.9117 - val_loss: 1.5377 - val_sparse_categorical_accuracy: 0.8190 - 385ms/epoch - 4ms/step\n",
      "Epoch 31/50\n",
      "98/98 - 0s - loss: 0.9365 - sparse_categorical_accuracy: 0.9157 - val_loss: 1.5565 - val_sparse_categorical_accuracy: 0.8180 - 372ms/epoch - 4ms/step\n",
      "Epoch 32/50\n",
      "98/98 - 0s - loss: 0.9303 - sparse_categorical_accuracy: 0.9173 - val_loss: 1.5396 - val_sparse_categorical_accuracy: 0.8150 - 378ms/epoch - 4ms/step\n",
      "Epoch 33/50\n",
      "98/98 - 0s - loss: 0.9202 - sparse_categorical_accuracy: 0.9197 - val_loss: 1.5449 - val_sparse_categorical_accuracy: 0.8120 - 386ms/epoch - 4ms/step\n",
      "Epoch 34/50\n",
      "98/98 - 0s - loss: 0.9149 - sparse_categorical_accuracy: 0.9193 - val_loss: 1.5572 - val_sparse_categorical_accuracy: 0.8120 - 376ms/epoch - 4ms/step\n",
      "Epoch 35/50\n",
      "98/98 - 0s - loss: 0.9058 - sparse_categorical_accuracy: 0.9232 - val_loss: 1.5296 - val_sparse_categorical_accuracy: 0.8210 - 381ms/epoch - 4ms/step\n",
      "Epoch 36/50\n",
      "98/98 - 0s - loss: 0.9009 - sparse_categorical_accuracy: 0.9242 - val_loss: 1.5200 - val_sparse_categorical_accuracy: 0.8180 - 379ms/epoch - 4ms/step\n",
      "Epoch 37/50\n",
      "98/98 - 1s - loss: 0.8942 - sparse_categorical_accuracy: 0.9263 - val_loss: 1.5217 - val_sparse_categorical_accuracy: 0.8170 - 517ms/epoch - 5ms/step\n",
      "Epoch 38/50\n",
      "98/98 - 0s - loss: 0.8875 - sparse_categorical_accuracy: 0.9271 - val_loss: 1.5177 - val_sparse_categorical_accuracy: 0.8140 - 467ms/epoch - 5ms/step\n",
      "Epoch 39/50\n",
      "98/98 - 1s - loss: 0.8788 - sparse_categorical_accuracy: 0.9301 - val_loss: 1.5054 - val_sparse_categorical_accuracy: 0.8180 - 515ms/epoch - 5ms/step\n",
      "Epoch 40/50\n",
      "98/98 - 1s - loss: 0.8761 - sparse_categorical_accuracy: 0.9310 - val_loss: 1.5191 - val_sparse_categorical_accuracy: 0.8180 - 528ms/epoch - 5ms/step\n",
      "Epoch 41/50\n",
      "98/98 - 0s - loss: 0.8694 - sparse_categorical_accuracy: 0.9324 - val_loss: 1.5244 - val_sparse_categorical_accuracy: 0.8190 - 388ms/epoch - 4ms/step\n",
      "Epoch 42/50\n",
      "98/98 - 0s - loss: 0.8636 - sparse_categorical_accuracy: 0.9347 - val_loss: 1.5024 - val_sparse_categorical_accuracy: 0.8140 - 418ms/epoch - 4ms/step\n",
      "Epoch 43/50\n",
      "98/98 - 0s - loss: 0.8617 - sparse_categorical_accuracy: 0.9343 - val_loss: 1.5117 - val_sparse_categorical_accuracy: 0.8160 - 383ms/epoch - 4ms/step\n",
      "Epoch 44/50\n",
      "98/98 - 0s - loss: 0.8557 - sparse_categorical_accuracy: 0.9366 - val_loss: 1.5005 - val_sparse_categorical_accuracy: 0.8180 - 399ms/epoch - 4ms/step\n",
      "Epoch 45/50\n",
      "98/98 - 0s - loss: 0.8510 - sparse_categorical_accuracy: 0.9382 - val_loss: 1.5080 - val_sparse_categorical_accuracy: 0.8170 - 381ms/epoch - 4ms/step\n",
      "Epoch 46/50\n",
      "98/98 - 0s - loss: 0.8457 - sparse_categorical_accuracy: 0.9401 - val_loss: 1.5203 - val_sparse_categorical_accuracy: 0.8130 - 374ms/epoch - 4ms/step\n",
      "Epoch 47/50\n",
      "98/98 - 0s - loss: 0.8419 - sparse_categorical_accuracy: 0.9409 - val_loss: 1.5345 - val_sparse_categorical_accuracy: 0.8140 - 395ms/epoch - 4ms/step\n",
      "Epoch 48/50\n",
      "98/98 - 0s - loss: 0.8361 - sparse_categorical_accuracy: 0.9427 - val_loss: 1.5066 - val_sparse_categorical_accuracy: 0.8230 - 406ms/epoch - 4ms/step\n",
      "Epoch 49/50\n",
      "98/98 - 0s - loss: 0.8343 - sparse_categorical_accuracy: 0.9428 - val_loss: 1.5174 - val_sparse_categorical_accuracy: 0.8200 - 397ms/epoch - 4ms/step\n",
      "Epoch 50/50\n",
      "98/98 - 0s - loss: 0.8305 - sparse_categorical_accuracy: 0.9442 - val_loss: 1.5006 - val_sparse_categorical_accuracy: 0.8190 - 387ms/epoch - 4ms/step\n",
      "Model: \"sequential\"\n",
      "_________________________________________________________________\n",
      " Layer (type)                Output Shape              Param #   \n",
      "=================================================================\n",
      " dense (Dense)               (500, 128)                100480    \n",
      "                                                                 \n",
      " dense_1 (Dense)             (500, 256)                33024     \n",
      "                                                                 \n",
      " dense_2 (Dense)             (500, 256)                65792     \n",
      "                                                                 \n",
      " dense_3 (Dense)             (500, 20)                 5140      \n",
      "                                                                 \n",
      "=================================================================\n",
      "Total params: 204,436\n",
      "Trainable params: 204,436\n",
      "Non-trainable params: 0\n",
      "_________________________________________________________________\n"
     ]
    }
   ],
   "source": [
    "#############################################################\n",
    "# TODO: build the model with tf.keras.models.Sequential\n",
    "\n",
    "from tensorflow.keras import regularizers\n",
    "\n",
    "model = tf.keras.models.Sequential([\n",
    "  # tf.keras.layers.Flatten(input_shape=(28, 28)),\n",
    "  tf.keras.layers.Dense(128,activation='relu',kernel_regularizer=regularizers.l2(l2=1e-3)),\n",
    "  tf.keras.layers.Dense(256,activation=\"relu\",kernel_regularizer=regularizers.l2(l2=1e-3)),  \n",
    "  tf.keras.layers.Dense(256,activation=\"relu\",kernel_regularizer=regularizers.l2(l2=1e-3)),\n",
    "  tf.keras.layers.Dense(20,activation=\"softmax\",  kernel_regularizer=regularizers.l2(l2=1e-3))\n",
    "  # tf.keras.layers.Dense(3, kernel_regularizer='l2')\n",
    "])\n",
    "\n",
    "\n",
    "\n",
    "# END of your code\n",
    "#############################################################\n",
    "\n",
    "\n",
    "\n",
    "#############################################################\n",
    "# TODO: compile the model, set optimizer and loss\n",
    "model.compile(\n",
    "    # optimizer=tf.keras.optimizers.Adam(0.001),\n",
    "    optimizer=tf.keras.optimizers.SGD(learning_rate=1e-3),\n",
    "    loss=tf.keras.losses.SparseCategoricalCrossentropy(from_logits=True),\n",
    "    metrics=[tf.keras.metrics.SparseCategoricalAccuracy()],\n",
    ")\n",
    "\n",
    "# END of your code\n",
    "#############################################################\n",
    "\n",
    "\n",
    "\n",
    "#############################################################\n",
    "# TODO: train the model with our own dataset\n",
    "\n",
    "\n",
    "model.fit(\n",
    "    x = X_train, \n",
    "    y = y_train, \n",
    "    batch_size = 500,\n",
    "    epochs=50,\n",
    "    verbose = 2,\n",
    "    validation_data=(X_val,y_val),\n",
    "    shuffle = True\n",
    ")\n",
    "model.summary()\n",
    "\n",
    "# END of your code\n",
    "#############################################################"
   ]
  },
  {
   "cell_type": "markdown",
   "metadata": {},
   "source": [
    "## Part 2: t-SNE (optional, bonus +5 points)\n",
    "\n",
    "t-SNE is is a machine learning algorithm for nonlinear dimensionality reduction developed by Geoffrey Hinton and Laurens van der Maaten. It is also a good way of visualizing high-dimensional data in 2D. We show its application for CIFAR100. Later it will be re-used in a CNN network. Experimenting with t-SNE can be fun. One thing to try is to visualize the output of each layer of MLP to observe the differences.\n",
    "\n",
    "<p style=\"line-height: 1.2;\">[1] Maaten, Laurens van der, and Geoffrey Hinton. \"Visualizing data using t-SNE.\" Journal of Machine Learning Research 9.Nov (2008): 2579-2605.</p>\n",
    "<p style=\"line-height: 1.2;\">[2] Adaptive learning rate scheme by Jacobs https://www.willamette.edu/~gorr/classes/cs449/Momentum/deltabardelta.html</p>\n",
    "<p style=\"line-height: 1.2;\">[3] http://cs.stanford.edu/people/karpathy/cnnembed/</p>\n",
    "<p style=\"line-height: 1.2;\">[4] How to Use t-SNE Effectively, with examples.\n",
    " https://distill.pub/2016/misread-tsne</p>"
   ]
  },
  {
   "cell_type": "code",
   "execution_count": 7,
   "metadata": {},
   "outputs": [],
   "source": [
    "from utils.train_funcs import train, test\n",
    "from utils.classifiers.mlp import MLP\n",
    "from utils.features.tsne import tsne"
   ]
  },
  {
   "cell_type": "code",
   "execution_count": 8,
   "metadata": {
    "tags": []
   },
   "outputs": [
    {
     "name": "stdout",
     "output_type": "stream",
     "text": [
      "(49000, 784) (1000, 784) (10000, 784) (100, 784)\n",
      "Train data shape:  (49000, 784)\n",
      "Train labels shape:  (49000,)\n",
      "Validation data shape:  (1000, 784)\n",
      "Validation labels shape:  (1000,)\n",
      "Test data shape:  (10000, 784)\n",
      "Test labels shape:  (10000,)\n",
      "Development data shape: (100, 784)\n",
      "Development data shape (100,)\n"
     ]
    }
   ],
   "source": [
    "# Load the raw Fashion-MNIST data.\n",
    "train_data, test_data = fashion_mnist.load_data()\n",
    "\n",
    "X_train_raw, y_train = train_data\n",
    "X_test_raw, y_test = test_data\n",
    "\n",
    "X_train = X_train_raw.reshape((X_train_raw.shape[0], X_train_raw.shape[1]**2))\n",
    "X_test = X_test_raw.reshape((X_test_raw.shape[0], X_test_raw.shape[1]**2))\n",
    "\n",
    "# Data organizations:\n",
    "# Train data: 49000 samples from original train set: 1~49,000\n",
    "# Validation data: 1000 samples from original train set: 49,000~50,000\n",
    "# Test data: 10000 samples from original test set: 1~10,000\n",
    "# Development data (for gradient check): 100 from the train set: 1~49,000\n",
    "num_training = 49000\n",
    "num_validation = 1000\n",
    "num_dev = 100\n",
    "\n",
    "X_val = X_train[-num_validation:, :]\n",
    "y_val = y_train[-num_validation:]\n",
    "\n",
    "mask = np.random.choice(num_training, num_dev, replace=False)\n",
    "X_dev = X_train[mask]\n",
    "y_dev = y_train[mask]\n",
    "\n",
    "X_train = X_train[:num_training, :]\n",
    "y_train = y_train[:num_training]\n",
    "\n",
    "# Preprocessing: subtract the mean value across every dimension for training data\n",
    "mean_image = np.mean(X_train, axis=0)\n",
    "\n",
    "X_train = X_train.astype(np.float32) - mean_image.astype(np.float32)\n",
    "X_val = X_val.astype(np.float32) - mean_image\n",
    "X_test = X_test.astype(np.float32) - mean_image\n",
    "X_dev = X_dev.astype(np.float32) - mean_image\n",
    "\n",
    "print(X_train.shape, X_val.shape, X_test.shape, X_dev.shape)\n",
    "print('Train data shape: ', X_train.shape)\n",
    "print('Train labels shape: ', y_train.shape)\n",
    "print('Validation data shape: ', X_val.shape)\n",
    "print('Validation labels shape: ', y_val.shape)\n",
    "print('Test data shape: ', X_test.shape)\n",
    "print('Test labels shape: ', y_test.shape)\n",
    "print('Development data shape:', X_dev.shape)\n",
    "print('Development data shape', y_dev.shape)"
   ]
  },
  {
   "cell_type": "markdown",
   "metadata": {},
   "source": [
    "#### tSNE of original data"
   ]
  },
  {
   "cell_type": "code",
   "execution_count": 9,
   "metadata": {
    "tags": []
   },
   "outputs": [
    {
     "name": "stdout",
     "output_type": "stream",
     "text": [
      "2.952302930286705\n",
      "The 100 th loop cost: 11.791638580012133, computation time: 0.9461367130279541\n",
      "The 200 th loop cost: 0.5314782087531726, computation time: 1.876450538635254\n",
      "The 300 th loop cost: 0.49967112176327816, computation time: 2.8183889389038086\n",
      "The 400 th loop cost: 0.49445104654268185, computation time: 3.751099109649658\n",
      "The 500 th loop cost: 0.4932506114149763, computation time: 4.67635178565979\n",
      "The 600 th loop cost: 0.49277781338300086, computation time: 5.616339206695557\n",
      "The 700 th loop cost: 0.4925521777945765, computation time: 6.5461201667785645\n",
      "The 800 th loop cost: 0.4924327808920234, computation time: 7.489293575286865\n",
      "The 900 th loop cost: 0.492365717107873, computation time: 8.42598581314087\n",
      "The 1000 th loop cost: 0.4923262042560777, computation time: 9.372772932052612\n",
      "it takes 9.681288957595825 seconds\n"
     ]
    }
   ],
   "source": [
    "random_select = np.random.choice(10000, 500, replace=False)\n",
    "X = X_test_raw[random_select,:,:].reshape(500,X_train.shape[1]).astype('float')/255.0\n",
    "tic = time.time()\n",
    "Y = tsne(X, low_dim=2, perplexity=30.0)\n",
    "print(\"it takes {} seconds\".format(time.time()-tic))"
   ]
  },
  {
   "cell_type": "code",
   "execution_count": 10,
   "metadata": {},
   "outputs": [
    {
     "data": {
      "image/png": "[encoded data removed]",
      "text/plain": [
       "<Figure size 432x288 with 1 Axes>"
      ]
     },
     "metadata": {
      "needs_background": "light"
     },
     "output_type": "display_data"
    }
   ],
   "source": [
    "## visualize tSNE of original data\n",
    "labels = y_test[random_select]\n",
    "colors = np.random.rand(20,3)\n",
    "color_labels = [colors[int(i)] for i in labels.tolist()]\n",
    "plt.scatter(Y[:,0], Y[:,1], 20, color_labels)\n",
    "plt.show()"
   ]
  },
  {
   "cell_type": "markdown",
   "metadata": {},
   "source": [
    "#### tSNE of data after two hidden layers\n",
    "\n",
    "Do visualization of the tSNE of data after going through MLP. In the visualization result, you should find that in comparison with the tSNE of original data where all data points mess up with each other, tSNE of data after two-layer networks would be shown as multiple clusters in a 2D panel."
   ]
  },
  {
   "cell_type": "code",
   "execution_count": 62,
   "metadata": {
    "tags": []
   },
   "outputs": [
    {
     "name": "stdout",
     "output_type": "stream",
     "text": [
      "number of batches for training: 245\n",
      "epoch 1: valid acc = 0.227, new learning rate = 0.00095\n",
      "epoch 2: valid acc = 0.262, new learning rate = 0.0009025\n",
      "epoch 3: valid acc = 0.322, new learning rate = 0.000857375\n",
      "epoch 4: valid acc = 0.348, new learning rate = 0.0008145062499999999\n",
      "epoch 5: valid acc = 0.331, new learning rate = 0.0007737809374999998\n",
      "epoch 6: valid acc = 0.382, new learning rate = 0.0007350918906249997\n",
      "epoch 7: valid acc = 0.376, new learning rate = 0.0006983372960937497\n",
      "epoch 8: valid acc = 0.408, new learning rate = 0.0006634204312890621\n",
      "epoch 9: valid acc = 0.393, new learning rate = 0.000630249409724609\n",
      "epoch 10: valid acc = 0.388, new learning rate = 0.0005987369392383785\n",
      "test acc: 0.3774\n"
     ]
    },
    {
     "data": {
      "text/plain": [
       "0.3774"
      ]
     },
     "execution_count": 62,
     "metadata": {},
     "output_type": "execute_result"
    }
   ],
   "source": [
    "# Define MLP model\n",
    "model = MLP(input_dim=X_train.shape[1], hidden_dims=[100], num_classes=20, reg=0.1, weight_scale=1e-3)\n",
    "\n",
    "num_epoch = 10\n",
    "batch_size = 200\n",
    "lr = 1e-3\n",
    "verbose = False\n",
    "train_acc_hist, val_acc_hist = train(model, X_train, y_train, X_val, y_val, \n",
    "                  num_epoch=num_epoch, batch_size=batch_size, learning_rate=lr, verbose=verbose)\n",
    "test(model, X_test, y_test)"
   ]
  },
  {
   "cell_type": "markdown",
   "metadata": {},
   "source": [
    "<span style=\"color:red\"><strong>TODO</strong></span>: Visualize data that is passed through MLP model defined above using tSNE. "
   ]
  },
  {
   "cell_type": "code",
   "execution_count": 70,
   "metadata": {},
   "outputs": [
    {
     "name": "stdout",
     "output_type": "stream",
     "text": [
      "Epoch 1/10\n",
      "245/245 [==============================] - 1s 1ms/step - loss: 10.6682 - accuracy: 0.7541 - val_loss: 5.0962 - val_accuracy: 0.7980\n",
      "Epoch 2/10\n",
      "245/245 [==============================] - 0s 1ms/step - loss: 3.9205 - accuracy: 0.8153 - val_loss: 3.3574 - val_accuracy: 0.8030\n",
      "Epoch 3/10\n",
      "245/245 [==============================] - 0s 1ms/step - loss: 2.6093 - accuracy: 0.8268 - val_loss: 2.8013 - val_accuracy: 0.8020\n",
      "Epoch 4/10\n",
      "245/245 [==============================] - 0s 1ms/step - loss: 1.9964 - accuracy: 0.8368 - val_loss: 1.8634 - val_accuracy: 0.8290\n",
      "Epoch 5/10\n",
      "245/245 [==============================] - 0s 1ms/step - loss: 1.5908 - accuracy: 0.8416 - val_loss: 1.6812 - val_accuracy: 0.8340\n",
      "Epoch 6/10\n",
      "245/245 [==============================] - 0s 1ms/step - loss: 1.2820 - accuracy: 0.8493 - val_loss: 1.5628 - val_accuracy: 0.8240\n",
      "Epoch 7/10\n",
      "245/245 [==============================] - 0s 1ms/step - loss: 1.1230 - accuracy: 0.8529 - val_loss: 1.5322 - val_accuracy: 0.8200\n",
      "Epoch 8/10\n",
      "245/245 [==============================] - 0s 1ms/step - loss: 0.9492 - accuracy: 0.8564 - val_loss: 1.2730 - val_accuracy: 0.8350\n",
      "Epoch 9/10\n",
      "245/245 [==============================] - 0s 1ms/step - loss: 0.8369 - accuracy: 0.8604 - val_loss: 1.4534 - val_accuracy: 0.8110\n",
      "Epoch 10/10\n",
      "245/245 [==============================] - 0s 1ms/step - loss: 0.7628 - accuracy: 0.8632 - val_loss: 1.2299 - val_accuracy: 0.8230\n"
     ]
    },
    {
     "data": {
      "text/plain": [
       "<keras.callbacks.History at 0x2829b53c550>"
      ]
     },
     "execution_count": 70,
     "metadata": {},
     "output_type": "execute_result"
    }
   ],
   "source": [
    "import keras\n",
    "\n",
    "model_keras = tf.keras.Sequential()\n",
    "model_keras.add(tf.keras.layers.Input(shape = (784,)))\n",
    "model_keras.add(tf.keras.layers.Dense(100,\"relu\"))\n",
    "model_keras.add(tf.keras.layers.Dense(20))\n",
    "\n",
    "model_keras.compile(\n",
    "              loss=tf.keras.losses.CategoricalCrossentropy(from_logits = True),\n",
    "              optimizer=tf.keras.optimizers.SGD(0.001),\n",
    "              metrics=['accuracy']) \n",
    "\n",
    "model_keras.fit(X_train, tf.one_hot(y_train,20),validation_data = (X_val, tf.one_hot(y_val,20)), batch_size=200, epochs=10) "
   ]
  },
  {
   "cell_type": "code",
   "execution_count": 75,
   "metadata": {
    "tags": []
   },
   "outputs": [
    {
     "name": "stdout",
     "output_type": "stream",
     "text": [
      "layer 0\n",
      "layer 1\n",
      "[7 2 2 1 2 2 7 7 7 8 7 4 7 7 7 7 7 7 8 2 7 7 7 4 7 7 0 0 7 7 7 2 0 2 9 7 7\n",
      " 7 2 7 7 2 4 7 7 8 9 7 7 7 7 0 3 2 7 7 2 7 7 2 7 7 4 0 0 7 7 0 8 7 7 7 7 7\n",
      " 7 0 7 7 0 2 7 7 7 7 4 7 7 7 7 7 0 7 4 8 7 2 7 4 9 7 0 7 7 7 8 2 7 7 0 7 7\n",
      " 7 7 7 9 2 2 7 7 7 3 4 0 7 7 2 7 8 7 7 7 7 9 7 8 7 7 7 2 7 7 7 7 7 7 8 7 7\n",
      " 0 3 7 2 8 7 2 0 7 0 0 0 7 0 0 7 7 4 9 7 7 7 9 2 2 7 7 8 7 2 7 9 4 7 0 7 0\n",
      " 8 0 4 2 7 7 7 2 4 2 7 7 7 7 7 8 7 7 0 7 4 7 2 7 8 2 7 2 7 8 7 7 7 2 3 7 7\n",
      " 7 7 2 7 0 9 2 7 0 2 7 0 2 8 7 4 0 7 7 0 2 9 0 7 7 8 7 7 7 2 4 0 0 7 2 2 7\n",
      " 9 7 2 7 0 7 2 7 7 0 7 2 7 9 7 2 7 2 4 7 7 0 7 7 7 7 7 8 7 7 4 0 3 7 9 7 7\n",
      " 4 7 0 0 7 7 4 7 7 0 7 2 7 7 7 0 2 7 0 0 0 7 2 8 7 2 2 7 7 7 7 7 7 7 0 3 7\n",
      " 2 2 7 0 2 7 7 7 7 7 0 7 7 7 9 2 0 9 7 8 7 7 7 2 7 7 7 4 7 0 8 2 8 2 7 7 2\n",
      " 7 7 9 2 2 9 7 2 2 7 4 9 8 7 7 0 2 8 2 7 0 0 8 7 8 7 7 2 7 7 0 2 2 7 4 7 2\n",
      " 7 7 2 2 8 7 2 7 0 0 0 4 2 7 7 9 2 7 7 7 4 7 7 8 2 7 7 8 0 2 2 7 7 4 7 7 9\n",
      " 8 2 4 7 8 7 6 2 7 7 2 7 2 7 7 7 7 7 7 7 7 7 9 7 7 2 7 7 9 7 7 0 7 9 7 0 7\n",
      " 7 7 9 7 2 7 2 7 7 0 7 0 7 7 7 7 7 0 0] (500,)\n"
     ]
    },
    {
     "ename": "ValueError",
     "evalue": "not enough values to unpack (expected 2, got 1)",
     "output_type": "error",
     "traceback": [
      "\u001b[1;31m---------------------------------------------------------------------------\u001b[0m",
      "\u001b[1;31mValueError\u001b[0m                                Traceback (most recent call last)",
      "\u001b[1;32m<ipython-input-75-28dc619d9510>\u001b[0m in \u001b[0;36m<module>\u001b[1;34m\u001b[0m\n\u001b[0;32m     37\u001b[0m \u001b[1;33m\u001b[0m\u001b[0m\n\u001b[0;32m     38\u001b[0m \u001b[1;33m\u001b[0m\u001b[0m\n\u001b[1;32m---> 39\u001b[1;33m \u001b[0mY\u001b[0m \u001b[1;33m=\u001b[0m \u001b[0mtsne\u001b[0m\u001b[1;33m(\u001b[0m\u001b[0mh\u001b[0m\u001b[1;33m,\u001b[0m \u001b[0mlow_dim\u001b[0m\u001b[1;33m=\u001b[0m\u001b[1;36m2\u001b[0m\u001b[1;33m,\u001b[0m \u001b[0mperplexity\u001b[0m\u001b[1;33m=\u001b[0m\u001b[1;36m30.0\u001b[0m\u001b[1;33m)\u001b[0m\u001b[1;33m\u001b[0m\u001b[1;33m\u001b[0m\u001b[0m\n\u001b[0m\u001b[0;32m     40\u001b[0m \u001b[1;33m\u001b[0m\u001b[0m\n\u001b[0;32m     41\u001b[0m \u001b[1;33m\u001b[0m\u001b[0m\n",
      "\u001b[1;32m~\\a_projects\\4040\\e4040-2021fall-assign1-yz4004-main\\utils\\features\\tsne.py\u001b[0m in \u001b[0;36mtsne\u001b[1;34m(X, low_dim, perplexity)\u001b[0m\n\u001b[0;32m     81\u001b[0m     \u001b[1;31m# X = pca_preprocess(X, low_dim)\u001b[0m\u001b[1;33m\u001b[0m\u001b[1;33m\u001b[0m\u001b[1;33m\u001b[0m\u001b[0m\n\u001b[0;32m     82\u001b[0m \u001b[1;33m\u001b[0m\u001b[0m\n\u001b[1;32m---> 83\u001b[1;33m     \u001b[0mN\u001b[0m\u001b[1;33m,\u001b[0m\u001b[0mD\u001b[0m \u001b[1;33m=\u001b[0m \u001b[0mX\u001b[0m\u001b[1;33m.\u001b[0m\u001b[0mshape\u001b[0m\u001b[1;33m\u001b[0m\u001b[1;33m\u001b[0m\u001b[0m\n\u001b[0m\u001b[0;32m     84\u001b[0m \u001b[1;33m\u001b[0m\u001b[0m\n\u001b[0;32m     85\u001b[0m     \u001b[0mP\u001b[0m \u001b[1;33m=\u001b[0m \u001b[0mbinary_search\u001b[0m\u001b[1;33m(\u001b[0m\u001b[0mX\u001b[0m\u001b[1;33m,\u001b[0m \u001b[0mperplexity\u001b[0m\u001b[1;33m)\u001b[0m\u001b[1;33m\u001b[0m\u001b[1;33m\u001b[0m\u001b[0m\n",
      "\u001b[1;31mValueError\u001b[0m: not enough values to unpack (expected 2, got 1)"
     ]
    }
   ],
   "source": [
    "# run tSNE\n",
    "X = X_test[random_select]\n",
    "tic = time.time()\n",
    "\n",
    "#############################################################################\n",
    "#                          START OF YOUR CODE                               #\n",
    "# Hint: Pass data through affine and dense layers (model.layers) and then \n",
    "# apply softmax to obtain output of the MLP model.\n",
    "#############################################################################\n",
    "\n",
    "# h = model.layers[1].feedforward(model.layers[0].feedforward(X))\n",
    "\n",
    "def softmax(x):\n",
    "    # x.shape (N,o) \n",
    "    # x = x.reshape(-1,1)\n",
    "    N = x.shape[0]\n",
    "    ex = np.exp(x)\n",
    "    softmax = ex/( np.sum(ex,axis=1).reshape(N,1) )\n",
    "    y_hat = np.argmax(softmax, axis=1)\n",
    "    Y = np.zeros_like(x)\n",
    "    Y[range(N), y_hat] = 1\n",
    "    return y_hat # Y\n",
    "\n",
    "# print(model.num_layers)  2\n",
    "\n",
    "for l in range(model.num_layers):\n",
    "    print(\"layer\",l)\n",
    "    X = model.layers[l].feedforward(X)\n",
    "\n",
    "# print(X, X.shape)  (500, 20)\n",
    "    \n",
    "# print(h.shape,softmax(h).shape)\n",
    "# print(model.predict(X).shape)\n",
    "\n",
    "h = softmax(X)\n",
    "print(h,h.shape)\n",
    "\n",
    "\n",
    "Y = tsne(h, low_dim=2, perplexity=30.0)\n",
    "\n",
    "\n",
    "#############################################################################\n",
    "#                          END OF YOUR CODE                                 #\n",
    "#############################################################################\n",
    "\n",
    "print(\"it takes {} seconds\".format(time.time()-tic))"
   ]
  },
  {
   "cell_type": "code",
   "execution_count": 73,
   "metadata": {},
   "outputs": [
    {
     "ename": "TypeError",
     "evalue": "int() argument must be a string, a bytes-like object or a number, not 'list'",
     "output_type": "error",
     "traceback": [
      "\u001b[1;31m---------------------------------------------------------------------------\u001b[0m",
      "\u001b[1;31mTypeError\u001b[0m                                 Traceback (most recent call last)",
      "\u001b[1;32m<ipython-input-73-20de6f99dc89>\u001b[0m in \u001b[0;36m<module>\u001b[1;34m\u001b[0m\n\u001b[0;32m      7\u001b[0m \u001b[0mlabels\u001b[0m \u001b[1;33m=\u001b[0m \u001b[0mY\u001b[0m\u001b[1;31m#  y_test[random_select]\u001b[0m\u001b[1;33m\u001b[0m\u001b[1;33m\u001b[0m\u001b[0m\n\u001b[0;32m      8\u001b[0m \u001b[0mcolors\u001b[0m \u001b[1;33m=\u001b[0m \u001b[0mnp\u001b[0m\u001b[1;33m.\u001b[0m\u001b[0mrandom\u001b[0m\u001b[1;33m.\u001b[0m\u001b[0mrand\u001b[0m\u001b[1;33m(\u001b[0m\u001b[1;36m20\u001b[0m\u001b[1;33m,\u001b[0m\u001b[1;36m3\u001b[0m\u001b[1;33m)\u001b[0m\u001b[1;33m\u001b[0m\u001b[1;33m\u001b[0m\u001b[0m\n\u001b[1;32m----> 9\u001b[1;33m \u001b[0mcolor_labels\u001b[0m \u001b[1;33m=\u001b[0m \u001b[1;33m[\u001b[0m\u001b[0mcolors\u001b[0m\u001b[1;33m[\u001b[0m\u001b[0mint\u001b[0m\u001b[1;33m(\u001b[0m\u001b[0mi\u001b[0m\u001b[1;33m)\u001b[0m\u001b[1;33m]\u001b[0m \u001b[1;32mfor\u001b[0m \u001b[0mi\u001b[0m \u001b[1;32min\u001b[0m \u001b[0mlabels\u001b[0m\u001b[1;33m.\u001b[0m\u001b[0mtolist\u001b[0m\u001b[1;33m(\u001b[0m\u001b[1;33m)\u001b[0m\u001b[1;33m]\u001b[0m\u001b[1;33m\u001b[0m\u001b[1;33m\u001b[0m\u001b[0m\n\u001b[0m\u001b[0;32m     10\u001b[0m \u001b[0mplt\u001b[0m\u001b[1;33m.\u001b[0m\u001b[0mscatter\u001b[0m\u001b[1;33m(\u001b[0m\u001b[0mY\u001b[0m\u001b[1;33m[\u001b[0m\u001b[1;33m:\u001b[0m\u001b[1;33m,\u001b[0m\u001b[1;36m0\u001b[0m\u001b[1;33m]\u001b[0m\u001b[1;33m,\u001b[0m \u001b[0mY\u001b[0m\u001b[1;33m[\u001b[0m\u001b[1;33m:\u001b[0m\u001b[1;33m,\u001b[0m\u001b[1;36m1\u001b[0m\u001b[1;33m]\u001b[0m\u001b[1;33m,\u001b[0m \u001b[1;36m20\u001b[0m\u001b[1;33m,\u001b[0m \u001b[0mcolor_labels\u001b[0m\u001b[1;33m)\u001b[0m\u001b[1;33m\u001b[0m\u001b[1;33m\u001b[0m\u001b[0m\n\u001b[0;32m     11\u001b[0m \u001b[0mplt\u001b[0m\u001b[1;33m.\u001b[0m\u001b[0mshow\u001b[0m\u001b[1;33m(\u001b[0m\u001b[1;33m)\u001b[0m\u001b[1;33m\u001b[0m\u001b[1;33m\u001b[0m\u001b[0m\n",
      "\u001b[1;32m<ipython-input-73-20de6f99dc89>\u001b[0m in \u001b[0;36m<listcomp>\u001b[1;34m(.0)\u001b[0m\n\u001b[0;32m      7\u001b[0m \u001b[0mlabels\u001b[0m \u001b[1;33m=\u001b[0m \u001b[0mY\u001b[0m\u001b[1;31m#  y_test[random_select]\u001b[0m\u001b[1;33m\u001b[0m\u001b[1;33m\u001b[0m\u001b[0m\n\u001b[0;32m      8\u001b[0m \u001b[0mcolors\u001b[0m \u001b[1;33m=\u001b[0m \u001b[0mnp\u001b[0m\u001b[1;33m.\u001b[0m\u001b[0mrandom\u001b[0m\u001b[1;33m.\u001b[0m\u001b[0mrand\u001b[0m\u001b[1;33m(\u001b[0m\u001b[1;36m20\u001b[0m\u001b[1;33m,\u001b[0m\u001b[1;36m3\u001b[0m\u001b[1;33m)\u001b[0m\u001b[1;33m\u001b[0m\u001b[1;33m\u001b[0m\u001b[0m\n\u001b[1;32m----> 9\u001b[1;33m \u001b[0mcolor_labels\u001b[0m \u001b[1;33m=\u001b[0m \u001b[1;33m[\u001b[0m\u001b[0mcolors\u001b[0m\u001b[1;33m[\u001b[0m\u001b[0mint\u001b[0m\u001b[1;33m(\u001b[0m\u001b[0mi\u001b[0m\u001b[1;33m)\u001b[0m\u001b[1;33m]\u001b[0m \u001b[1;32mfor\u001b[0m \u001b[0mi\u001b[0m \u001b[1;32min\u001b[0m \u001b[0mlabels\u001b[0m\u001b[1;33m.\u001b[0m\u001b[0mtolist\u001b[0m\u001b[1;33m(\u001b[0m\u001b[1;33m)\u001b[0m\u001b[1;33m]\u001b[0m\u001b[1;33m\u001b[0m\u001b[1;33m\u001b[0m\u001b[0m\n\u001b[0m\u001b[0;32m     10\u001b[0m \u001b[0mplt\u001b[0m\u001b[1;33m.\u001b[0m\u001b[0mscatter\u001b[0m\u001b[1;33m(\u001b[0m\u001b[0mY\u001b[0m\u001b[1;33m[\u001b[0m\u001b[1;33m:\u001b[0m\u001b[1;33m,\u001b[0m\u001b[1;36m0\u001b[0m\u001b[1;33m]\u001b[0m\u001b[1;33m,\u001b[0m \u001b[0mY\u001b[0m\u001b[1;33m[\u001b[0m\u001b[1;33m:\u001b[0m\u001b[1;33m,\u001b[0m\u001b[1;36m1\u001b[0m\u001b[1;33m]\u001b[0m\u001b[1;33m,\u001b[0m \u001b[1;36m20\u001b[0m\u001b[1;33m,\u001b[0m \u001b[0mcolor_labels\u001b[0m\u001b[1;33m)\u001b[0m\u001b[1;33m\u001b[0m\u001b[1;33m\u001b[0m\u001b[0m\n\u001b[0;32m     11\u001b[0m \u001b[0mplt\u001b[0m\u001b[1;33m.\u001b[0m\u001b[0mshow\u001b[0m\u001b[1;33m(\u001b[0m\u001b[1;33m)\u001b[0m\u001b[1;33m\u001b[0m\u001b[1;33m\u001b[0m\u001b[0m\n",
      "\u001b[1;31mTypeError\u001b[0m: int() argument must be a string, a bytes-like object or a number, not 'list'"
     ]
    }
   ],
   "source": [
    "# visualize tSNE 2D representation of data after two hidden layers\n",
    "#############################################################################\n",
    "#                          START OF YOUR CODE                               #\n",
    "# Hint: See tSNE visualization of original data\n",
    "#############################################################################\n",
    "\n",
    "labels = Y#  y_test[random_select]\n",
    "colors = np.random.rand(20,3)\n",
    "color_labels = [colors[int(i)] for i in labels.tolist()]\n",
    "plt.scatter(Y[:,0], Y[:,1], 20, color_labels)\n",
    "plt.show()\n",
    "\n",
    "#############################################################################\n",
    "#                          END OF YOUR CODE                                 #\n",
    "#############################################################################"
   ]
  },
  {
   "cell_type": "markdown",
   "metadata": {},
   "source": [
    "<span style=\"color:red\"><strong>TODO</strong></span>: Try tuning the parameters of tSNE, do visualization of the new tSNE of data."
   ]
  },
  {
   "cell_type": "code",
   "execution_count": 110,
   "metadata": {},
   "outputs": [
    {
     "name": "stdout",
     "output_type": "stream",
     "text": [
      "0.19968192466266999\n",
      "The 100 th loop cost: 7.087246903909275, computation time: 1.1312649250030518\n",
      "The 200 th loop cost: 0.043641245548307034, computation time: 2.290550470352173\n",
      "The 300 th loop cost: 0.03398065136499334, computation time: 3.3973052501678467\n",
      "The 400 th loop cost: 0.032395857818861465, computation time: 4.4920573234558105\n",
      "The 500 th loop cost: 0.03201141632089565, computation time: 5.654825210571289\n",
      "The 600 th loop cost: 0.03184317760278019, computation time: 6.782080173492432\n",
      "The 700 th loop cost: 0.03175273846260507, computation time: 7.926173686981201\n",
      "The 800 th loop cost: 0.031693132826145616, computation time: 9.050486326217651\n",
      "The 900 th loop cost: 0.031654282362404806, computation time: 10.174244403839111\n",
      "The 1000 th loop cost: 0.03162931791243458, computation time: 11.30650019645691\n",
      "it takes 12.004657983779907 seconds\n"
     ]
    }
   ],
   "source": [
    "# Tune the parameter, show the results.\n",
    "# run tSNE\n",
    "X = X_test[random_select]\n",
    "\n",
    "#############################################################################\n",
    "#                          START OF YOUR CODE                               #\n",
    "#############################################################################\n",
    "\n",
    "\n",
    "tic = time.time()\n",
    "h = model.layers[1].feedforward(model.layers[0].feedforward(X))\n",
    "\n",
    "def softmax(x):\n",
    "    N = x.shape[0]\n",
    "    ex = np.exp(x)\n",
    "    softmax = ex/( np.sum(ex,axis=1).reshape(N,1) )\n",
    "    y_hat = np.argmax(softmax, axis=1)\n",
    "    Y = np.zeros_like(x)\n",
    "    Y[range(N), y_hat] = 1\n",
    "    return Y\n",
    "\n",
    "\n",
    "Y = tsne(softmax(h), low_dim=10, perplexity=50.0)\n",
    "\n",
    "\n",
    "#############################################################################\n",
    "#                          END OF YOUR CODE                                 #\n",
    "#############################################################################\n",
    "\n",
    "print(\"it takes {} seconds\".format(time.time()-tic))"
   ]
  },
  {
   "cell_type": "code",
   "execution_count": 111,
   "metadata": {},
   "outputs": [
    {
     "data": {
      "image/png": "[encoded data removed]",
      "text/plain": [
       "<Figure size 432x288 with 1 Axes>"
      ]
     },
     "metadata": {
      "needs_background": "light"
     },
     "output_type": "display_data"
    }
   ],
   "source": [
    "# visualize tSNE 2D representation of data after two hidden layers\n",
    "#############################################################################\n",
    "#                          START OF YOUR CODE                               #\n",
    "#############################################################################\n",
    "\n",
    "labels = y_test[random_select]\n",
    "colors = np.random.rand(20,3)\n",
    "color_labels = [colors[int(i)] for i in labels.tolist()]\n",
    "plt.scatter(Y[:,0], Y[:,1], 20, color_labels)\n",
    "plt.show()\n",
    "\n",
    "#############################################################################\n",
    "#                          END OF YOUR CODE                                 #\n",
    "#############################################################################"
   ]
  },
  {
   "cell_type": "code",
   "execution_count": null,
   "metadata": {},
   "outputs": [],
   "source": []
  }
 ],
 "metadata": {
  "colab": {
   "name": "task2-mlp_eager.ipynb",
   "provenance": [],
   "toc_visible": true,
   "version": "0.3.2"
  },
  "kernelspec": {
   "display_name": "Python 3",
   "language": "python",
   "name": "python3"
  },
  "language_info": {
   "codemirror_mode": {
    "name": "ipython",
    "version": 3
   },
   "file_extension": ".py",
   "mimetype": "text/x-python",
   "name": "python",
   "nbconvert_exporter": "python",
   "pygments_lexer": "ipython3",
   "version": "3.8.8"
  }
 },
 "nbformat": 4,
 "nbformat_minor": 4
}
