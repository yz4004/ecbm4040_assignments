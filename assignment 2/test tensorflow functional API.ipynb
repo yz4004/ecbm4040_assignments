{
 "cells": [
  {
   "cell_type": "code",
   "execution_count": 1,
   "id": "c93e7ff3",
   "metadata": {},
   "outputs": [
    {
     "name": "stdout",
     "output_type": "stream",
     "text": [
      "分类准确度：100.00%\n"
     ]
    }
   ],
   "source": [
    "# Author：Louis Young\n",
    "# Note：使用Iris数据集，构建的4-8-4-1的全链接神经网络\n",
    "import tensorflow as tf\n",
    "import tensorflow.keras as keras\n",
    "import tensorflow.keras.layers as layers\n",
    "import sklearn.datasets as datasets\n",
    " \n",
    " \n",
    "class ModelException(Exception):\n",
    "    def __init__(self, msg='模型构建异常'):\n",
    "        self.message = msg\n",
    " \n",
    "# 1. 构建模型\n",
    "class IrisModel(keras.Model):\n",
    "    # 构造器\n",
    "    def __init__(self, networks):\n",
    "        super(IrisModel, self).__init__(name='iris_model')\n",
    "        # 判定参数类型是否是list\n",
    "        if not isinstance(networks, list):\n",
    "            raise ModelException('networks指定网络结构，类型是列表')\n",
    "        # 生成networks属性\n",
    "        self.networks = networks\n",
    "        # 构建层\n",
    "        self._layers = []\n",
    "        for _net in networks[:-1]:  # 不考虑输入层\n",
    "            layer = layers.Dense(units=_net, activation='relu')\n",
    "            self._layers.append(layer)\n",
    " \n",
    "        # 最后一层使用sigmoid函数\n",
    "        layer = layers.Dense(units=networks[-1], activation='sigmoid')\n",
    "        self._layers.append(layer)\n",
    " \n",
    "    # forward方法:构建网络模型\n",
    "    def call(self, inputs, **kwargs):\n",
    "        # 根据层构建模型输出\n",
    "        # 第一层的输入来自参数inputs\n",
    "        x = self._layers[0](inputs)\n",
    "        for _layer in self._layers[1:]:\n",
    "            # 上一层输出作为下一层输入调用参数\n",
    "            x = _layer(x)\n",
    " \n",
    "        # 返回最后一层作为输出\n",
    "        return x\n",
    " \n",
    " \n",
    "# 2. 创建模型实例\n",
    "model = IrisModel([8, 4, 1])  # 不包含输入的层4\n",
    "# ----------------------------------------< 以上为典型的模型构建方式。\n",
    " \n",
    "# 3. 定义训练参数\n",
    "model.compile(\n",
    "    optimizer='adam',     # 指定优化器\n",
    "    loss='binary_crossentropy',   # 指定损失函数\n",
    "    metrics=['accuracy']\n",
    ")\n",
    " \n",
    "# 4. 数据加载\n",
    "data, target = datasets.load_iris(return_X_y=True)\n",
    "data = data[:100, :]   # 取前面100个样本（第一类与第二类）\n",
    "target = target[:100]\n",
    "# 5. 训练\n",
    "model.fit(x=data, y=target, batch_size=10, epochs=100, verbose=0)\n",
    " \n",
    "# 6.预测\n",
    "# pre_result = model.predict(data)\n",
    "pre_result = model(data)    # 与上一语句作用一样 predict函数等价于对象的调用\n",
    "category = [0 if item <= 0.5 else 1 for item in pre_result ]\n",
    "accuracy = (target == category).mean()\n",
    "print(F'分类准确度：{accuracy *100.0:5.2f}%', )"
   ]
  },
  {
   "cell_type": "code",
   "execution_count": null,
   "id": "da8e583c",
   "metadata": {},
   "outputs": [],
   "source": [
    "from tensorflow.keras import Model\n",
    "\n"
   ]
  },
  {
   "cell_type": "code",
   "execution_count": null,
   "id": "6dc9347b",
   "metadata": {},
   "outputs": [],
   "source": []
  },
  {
   "cell_type": "code",
   "execution_count": null,
   "id": "317ed993",
   "metadata": {},
   "outputs": [],
   "source": []
  },
  {
   "cell_type": "code",
   "execution_count": 6,
   "id": "85d9705e",
   "metadata": {},
   "outputs": [
    {
     "name": "stdout",
     "output_type": "stream",
     "text": [
      "tf.Tensor([0 1 2 3 4 5 6 7 8 9], shape=(10,), dtype=int32)\n",
      "tf.Tensor(9, shape=(), dtype=int32)\n"
     ]
    }
   ],
   "source": [
    "c = tf.range(10)\n",
    "print(c)\n",
    "print(tf.reduce_max(c))"
   ]
  },
  {
   "cell_type": "code",
   "execution_count": null,
   "id": "80f2458a",
   "metadata": {},
   "outputs": [],
   "source": []
  }
 ],
 "metadata": {
  "kernelspec": {
   "display_name": "Python 3",
   "language": "python",
   "name": "python3"
  },
  "language_info": {
   "codemirror_mode": {
    "name": "ipython",
    "version": 3
   },
   "file_extension": ".py",
   "mimetype": "text/x-python",
   "name": "python",
   "nbconvert_exporter": "python",
   "pygments_lexer": "ipython3",
   "version": "3.8.8"
  }
 },
 "nbformat": 4,
 "nbformat_minor": 5
}
