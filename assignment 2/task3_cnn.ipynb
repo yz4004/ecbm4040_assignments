{
 "cells": [
  {
   "cell_type": "markdown",
   "metadata": {},
   "source": [
    "# ECBM E4040 - Assignment 2 - Task 3: Convolutional Neural Network (CNN)\n",
    "\n",
    "In this task, you are going to first practice the forward/backward propagation of the convolutional operations with NumPy. After that, we will introduce TensorFlow with which you will create your CNN model for an image classification task. "
   ]
  },
  {
   "cell_type": "markdown",
   "metadata": {},
   "source": [
    "## CNNs:\n",
    "Convolutional neural networks (CNNs) are highly effective for image processing tasks. \n",
    "\n",
    "When one builds a MLP model, each connection is multiplied by its own weight. When the input dimension or the first layer is very large, we need a giant matrix to store the weights. This could easily become a problem in image processing since the dimension of a vectorized image could easily exceed 1000 (consider CIFAR-10 which has images of shape 32×32=1024, yet the resolution is so low). \n",
    "\n",
    "In CNN, the weights are shared: the same filter (also known as 'weights' or 'kernel') moves over the input, and at each position an output value is calculated. This means that the same weights are repetitively applied to the entire input, therefore saving a lot of memory.\n",
    "\n",
    "![Illustration of the CNN](./utils/notebook_images/task3_1.jpg)\n",
    "Image source: [here](https://developer.apple.com/library/content/documentation/Performance/Conceptual/vImage/ConvolutionOperations/ConvolutionOperations.html)\n",
    "\n",
    "__Convolution:__  In the picture above, the input is a 7-by-7 image, and the filter is shown as a blue 3-by-3 grid. The filter overlaps with the top-left corner of the input, and we perform an element-wise multiplication followed by a summation, then put the sum into the output matrix. The filter then moves several pixels right, covering a new input area so a new sum can be derived.\n",
    "\n",
    "__Training:__ One thing to remember is that there would be a lot of filters for each layer in a CNN, and the goal of training is to find the best filters for your task. Each filter tries to capture one specific feature. Typically, in the first convolutional layer which directly looks at your input, the filters try to capture information about color and edges which we know as local features; in higher layers, due to the effect of max-pooling, the receptive-fields of filters becomes large so more global and complex features can be detected. \n",
    "\n",
    "__Architecture:__ For classification tasks, a CNN usually starts with convolution commonly followed by either average-pooling or max-pooling. After that, the feature maps will be flattened so that we could append fully connected layers. Common activation functions include ReLu, ELU in the convolution layers, and softmax in the fully connected layers (to calculate the classification scores).\n",
    "\n",
    "---\n",
    "\n",
    "### Terminology\n",
    "\n",
    "* __Convolution__: element-wise multiplication followed by summation of your input and one of your filters in the CNN context.\n",
    "* __Filter/kernel/weights__: a grid or a set of grids typically smaller than your input size that moves over the input space to generate output. Each filter captures one type of feature.\n",
    "* __Feature/feature maps__: the output of a hidden layer. Think of it as another representation of your data. \n",
    "* __Pooling__: an downsampling operation that joins local information together, so the higher layers' receptive fields can be bigger. The most seen pooling operation is max-pooling, which outputs the maximum of all values inside the pool.\n",
    "* __Flatten__: a junction between convolution layers and fully connected layers. Used to turn 2-D feature maps into 1-D. For tasks such as image segmentation where the output also needs to be 2-D, this won't be used.\n",
    "* __Border mode__: usually refers to 'VALID' or 'SAME'. Under 'VALID' mode, only when the filter and the input fully overlap can a convolution be conducted; under 'SAME' mode, the output size is the same as the input size (only when the stride is 1), and when the filter and the input don't fully overlap (happens at the edge/corner of input) we pad zeroes (or other designated numbers) and then do convolution.\n",
    "\n",
    "If you would like to read more about CNNs, visit [this site](https://cs231n.github.io/convolutional-networks/)."
   ]
  },
  {
   "cell_type": "code",
   "execution_count": 93,
   "metadata": {},
   "outputs": [],
   "source": [
    "import numpy as np\n",
    "import tensorflow as tf"
   ]
  },
  {
   "cell_type": "code",
   "execution_count": 94,
   "metadata": {},
   "outputs": [
    {
     "name": "stdout",
     "output_type": "stream",
     "text": [
      "2.6.0\n"
     ]
    }
   ],
   "source": [
    "print(tf.__version__)"
   ]
  },
  {
   "cell_type": "code",
   "execution_count": 95,
   "metadata": {},
   "outputs": [
    {
     "data": {
      "text/plain": [
       "''"
      ]
     },
     "execution_count": 95,
     "metadata": {},
     "output_type": "execute_result"
    }
   ],
   "source": [
    "tf.test.gpu_device_name()"
   ]
  },
  {
   "cell_type": "code",
   "execution_count": 96,
   "metadata": {},
   "outputs": [],
   "source": [
    "import os\n",
    "os.environ[\"KMP_DUPLICATE-LIB-OK\"] = \"TRUE\""
   ]
  },
  {
   "cell_type": "markdown",
   "metadata": {},
   "source": [
    "## Part 1: Getting a sense of convolution"
   ]
  },
  {
   "cell_type": "markdown",
   "metadata": {},
   "source": [
    "### conv2d feedforward\n",
    "\n",
    "Implement a NumPy naive 2-D convolution feedforward function. We ask you to simply do the element-wise multiplication and summation. Do not worry about the efficiency of your functions. Use as many loops as you like.\n",
    "\n",
    "<span style=\"color:red\">__TODO:__</span> Complete the function __conv2d_forward__ in __utils/layer_funcs.py__. After that, run the following cell blocks in Jupyter notebook, which will give the output of your convolution function. Detailed instructions have been given in the comments of __layer_func.py__. __The instructors will look at the output to give credits for this task__."
   ]
  },
  {
   "cell_type": "code",
   "execution_count": 97,
   "metadata": {},
   "outputs": [
    {
     "name": "stdout",
     "output_type": "stream",
     "text": [
      "Your feedforward result (size :(2, 3, 3, 5)) is: \n",
      "[[[[-0.46748472 -0.36306972 -0.25865471 -0.15423971 -0.0498247 ]\n",
      "   [-0.35593359 -0.26059401 -0.16525443 -0.06991486  0.02542472]\n",
      "   [-0.15935891 -0.05332115  0.05271662  0.15875438  0.26479215]]\n",
      "\n",
      "  [[ 0.12150907  0.22171692  0.32192477  0.42213263  0.52234048]\n",
      "   [ 0.54066763  0.63030502  0.7199424   0.80957979  0.89921717]\n",
      "   [ 0.4376495   0.5402915   0.64293349  0.74557548  0.84821747]]\n",
      "\n",
      "  [[ 0.21218071  0.32470951  0.43723831  0.5497671   0.6622959 ]\n",
      "   [ 0.51751628  0.62502655  0.73253681  0.84004708  0.94755735]\n",
      "   [ 0.32557548  0.43972704  0.55387859  0.66803015  0.78218171]]]\n",
      "\n",
      "\n",
      " [[[-0.27004908 -0.15211109 -0.03417309  0.0837649   0.20170289]\n",
      "   [-0.21191375 -0.09628969  0.01933437  0.13495843  0.25058249]\n",
      "   [-0.16476811 -0.04520735  0.0743534   0.19391415  0.31347491]]\n",
      "\n",
      "  [[-0.03873836  0.08175398  0.20224632  0.32273866  0.44323099]\n",
      "   [ 0.07209606  0.19216017  0.31222428  0.43228839  0.5523525 ]\n",
      "   [-0.02686517  0.0960613   0.21898778  0.34191425  0.46484073]]\n",
      "\n",
      "  [[-0.19891816 -0.07286637  0.05318542  0.1792372   0.30528899]\n",
      "   [-0.25126565 -0.1234709   0.00432385  0.1321186   0.25991335]\n",
      "   [-0.28836823 -0.16069368 -0.03301913  0.09465541  0.22232996]]]]\n"
     ]
    }
   ],
   "source": [
    "# tf 2.4.0 implementation\n",
    "from utils.layer_funcs import conv2d_forward\n",
    "# Set test parameters.\n",
    "x_shape = (2, 5, 5, 3) #(batch, height, width, channels)\n",
    "w_shape = (3, 3, 3, 5) #(filter_height, filter_width, channels, num_of_filters)\n",
    "channels = w_shape[-1]\n",
    "\n",
    "#x = np.linspace(-0.1, 0.5, num=np.prod(x_shape)).reshape(x_shape)\n",
    "#w = np.linspace(-0.2, 0.3, num=np.prod(w_shape)).reshape(w_shape)\n",
    "#b = np.linspace(-0.1, 0.2, num=channels)\n",
    "\n",
    "#Superficial change\n",
    "x = np.linspace(-0.5, 0.1, num=np.prod(x_shape)).reshape(x_shape)\n",
    "w = np.linspace(-0.3, 0.2, num=np.prod(w_shape)).reshape(w_shape)\n",
    "b = np.linspace(-0.2, 0.3, num=channels)\n",
    "\n",
    "pad = 1\n",
    "stride = 2\n",
    "your_feedforward = conv2d_forward(x, w, b, pad, stride)\n",
    "\n",
    "print(\"Your feedforward result (size :{}) is: \".format(your_feedforward.shape))\n",
    "print(your_feedforward)"
   ]
  },
  {
   "cell_type": "code",
   "execution_count": 98,
   "metadata": {},
   "outputs": [
    {
     "name": "stdout",
     "output_type": "stream",
     "text": [
      "Is your feedforward correct? True\n"
     ]
    }
   ],
   "source": [
    "######################################################\n",
    "# Verification/checking code. Do not modify it       #\n",
    "######################################################\n",
    "\n",
    "X_tf = tf.constant(x, shape=x_shape)\n",
    "w_tf = tf.constant(w, shape=w_shape)\n",
    "b_tf = tf.constant(b, shape=channels)\n",
    "\n",
    "def conv2d_forward_2(x, w, b, stride):\n",
    "    # stride in tf.nn.conv2d is in the format: [1, x_movement, y_movement, 1]\n",
    "    feedforward = tf.nn.conv2d(x, w, [1, stride, stride, 1], padding = \"SAME\")\n",
    "    # add bias to the conv network\n",
    "    feedforward = tf.nn.bias_add(feedforward, b)\n",
    "    return feedforward\n",
    "print(\"Is your feedforward correct? {}\".format(np.allclose(your_feedforward, conv2d_forward_2(X_tf, w_tf, b_tf, stride))))"
   ]
  },
  {
   "cell_type": "markdown",
   "metadata": {},
   "source": [
    "### conv2d backpropagation (optional, bonus +5 points)\n",
    "\n",
    "<p style=\"color:red\">This function is optional, but a bonus 5 points will be given if you solve it correctly.</p>\n",
    "\n",
    "Implement a NumPy naive 2-D convolution backpropagation function. Again, don't worry about the efficiency.\n",
    "\n",
    "<span style=\"color:red\">__TODO:__</span> Complete the function __conv2d_backward__ in __utils/layer_funcs.py__. After that, run the following cell blocks, which will give the output of your backpropagation. Detailed instructions have been given in the comments of __layer_func.py__. __We need to judge your output to give you credits__."
   ]
  },
  {
   "cell_type": "code",
   "execution_count": 99,
   "metadata": {},
   "outputs": [
    {
     "ename": "TypeError",
     "evalue": "cannot unpack non-iterable NoneType object",
     "output_type": "error",
     "traceback": [
      "\u001b[1;31m---------------------------------------------------------------------------\u001b[0m",
      "\u001b[1;31mTypeError\u001b[0m                                 Traceback (most recent call last)",
      "\u001b[1;32m<ipython-input-99-e9c2ee205cec>\u001b[0m in \u001b[0;36m<module>\u001b[1;34m\u001b[0m\n\u001b[0;32m      3\u001b[0m \u001b[0mnp\u001b[0m\u001b[1;33m.\u001b[0m\u001b[0mrandom\u001b[0m\u001b[1;33m.\u001b[0m\u001b[0mseed\u001b[0m\u001b[1;33m(\u001b[0m\u001b[1;36m235\u001b[0m\u001b[1;33m)\u001b[0m\u001b[1;33m\u001b[0m\u001b[1;33m\u001b[0m\u001b[0m\n\u001b[0;32m      4\u001b[0m \u001b[0md_top\u001b[0m \u001b[1;33m=\u001b[0m \u001b[0mnp\u001b[0m\u001b[1;33m.\u001b[0m\u001b[0mrandom\u001b[0m\u001b[1;33m.\u001b[0m\u001b[0mnormal\u001b[0m\u001b[1;33m(\u001b[0m\u001b[0msize\u001b[0m\u001b[1;33m=\u001b[0m\u001b[0myour_feedforward\u001b[0m\u001b[1;33m.\u001b[0m\u001b[0mshape\u001b[0m\u001b[1;33m)\u001b[0m\u001b[1;33m\u001b[0m\u001b[1;33m\u001b[0m\u001b[0m\n\u001b[1;32m----> 5\u001b[1;33m \u001b[0myour_dw\u001b[0m\u001b[1;33m,\u001b[0m \u001b[0myour_db\u001b[0m\u001b[1;33m,\u001b[0m \u001b[0md_w_shape\u001b[0m \u001b[1;33m=\u001b[0m \u001b[0mconv2d_backward\u001b[0m\u001b[1;33m(\u001b[0m\u001b[0md_top\u001b[0m\u001b[1;33m,\u001b[0m \u001b[0mx\u001b[0m\u001b[1;33m,\u001b[0m \u001b[0mw\u001b[0m\u001b[1;33m,\u001b[0m \u001b[0mb\u001b[0m\u001b[1;33m,\u001b[0m \u001b[0mpad\u001b[0m\u001b[1;33m,\u001b[0m \u001b[0mstride\u001b[0m\u001b[1;33m)\u001b[0m\u001b[1;33m\u001b[0m\u001b[1;33m\u001b[0m\u001b[0m\n\u001b[0m\u001b[0;32m      6\u001b[0m \u001b[1;33m\u001b[0m\u001b[0m\n\u001b[0;32m      7\u001b[0m \u001b[0mprint\u001b[0m\u001b[1;33m(\u001b[0m\u001b[1;34m\"Your weights' gradients result (size :{}) is: \"\u001b[0m\u001b[1;33m.\u001b[0m\u001b[0mformat\u001b[0m\u001b[1;33m(\u001b[0m\u001b[0md_w_shape\u001b[0m\u001b[1;33m)\u001b[0m\u001b[1;33m)\u001b[0m\u001b[1;33m\u001b[0m\u001b[1;33m\u001b[0m\u001b[0m\n",
      "\u001b[1;31mTypeError\u001b[0m: cannot unpack non-iterable NoneType object"
     ]
    }
   ],
   "source": [
    "from utils.layer_funcs import conv2d_backward\n",
    "# Set test parameters. Please don't change it.\n",
    "np.random.seed(235)\n",
    "d_top = np.random.normal(size=your_feedforward.shape)\n",
    "your_dw, your_db, d_w_shape = conv2d_backward(d_top, x, w, b, pad, stride)\n",
    "\n",
    "print(\"Your weights' gradients result (size :{}) is: \".format(d_w_shape))\n",
    "print(your_dw)\n",
    "print(\"Your biases' gradients result is: \")\n",
    "print(your_db)"
   ]
  },
  {
   "cell_type": "code",
   "execution_count": 100,
   "metadata": {},
   "outputs": [
    {
     "ename": "NameError",
     "evalue": "name 'your_dw' is not defined",
     "output_type": "error",
     "traceback": [
      "\u001b[1;31m---------------------------------------------------------------------------\u001b[0m",
      "\u001b[1;31mNameError\u001b[0m                                 Traceback (most recent call last)",
      "\u001b[1;32m<ipython-input-100-cc61e0e9987b>\u001b[0m in \u001b[0;36m<module>\u001b[1;34m\u001b[0m\n\u001b[0;32m     13\u001b[0m     \u001b[1;32mreturn\u001b[0m \u001b[0mdw_tf\u001b[0m\u001b[1;33m,\u001b[0m \u001b[0mdy_dx\u001b[0m\u001b[1;33m\u001b[0m\u001b[1;33m\u001b[0m\u001b[0m\n\u001b[0;32m     14\u001b[0m \u001b[1;33m\u001b[0m\u001b[0m\n\u001b[1;32m---> 15\u001b[1;33m \u001b[0mprint\u001b[0m\u001b[1;33m(\u001b[0m\u001b[1;34m\"Are your weights' gradients correct? {}\"\u001b[0m\u001b[1;33m.\u001b[0m\u001b[0mformat\u001b[0m\u001b[1;33m(\u001b[0m\u001b[0mnp\u001b[0m\u001b[1;33m.\u001b[0m\u001b[0mallclose\u001b[0m\u001b[1;33m(\u001b[0m\u001b[0myour_dw\u001b[0m\u001b[1;33m,\u001b[0m \u001b[0mconv2d_backward_2\u001b[0m\u001b[1;33m(\u001b[0m\u001b[0mX_tf\u001b[0m\u001b[1;33m,\u001b[0m \u001b[0mw_shape\u001b[0m\u001b[1;33m,\u001b[0m \u001b[0mb_tf\u001b[0m\u001b[1;33m,\u001b[0m \u001b[0md_top_tf\u001b[0m\u001b[1;33m,\u001b[0m \u001b[0mstride\u001b[0m\u001b[1;33m)\u001b[0m\u001b[1;33m[\u001b[0m\u001b[1;36m0\u001b[0m\u001b[1;33m]\u001b[0m\u001b[1;33m)\u001b[0m\u001b[1;33m)\u001b[0m\u001b[1;33m)\u001b[0m\u001b[1;33m\u001b[0m\u001b[1;33m\u001b[0m\u001b[0m\n\u001b[0m\u001b[0;32m     16\u001b[0m \u001b[0mprint\u001b[0m\u001b[1;33m(\u001b[0m\u001b[1;34m\"Are your biases' gradients correct? {}\"\u001b[0m\u001b[1;33m.\u001b[0m\u001b[0mformat\u001b[0m\u001b[1;33m(\u001b[0m\u001b[0mnp\u001b[0m\u001b[1;33m.\u001b[0m\u001b[0mallclose\u001b[0m\u001b[1;33m(\u001b[0m\u001b[0myour_db\u001b[0m\u001b[1;33m,\u001b[0m \u001b[0mconv2d_backward_2\u001b[0m\u001b[1;33m(\u001b[0m\u001b[0mX_tf\u001b[0m\u001b[1;33m,\u001b[0m \u001b[0mw_shape\u001b[0m\u001b[1;33m,\u001b[0m \u001b[0mb_tf\u001b[0m\u001b[1;33m,\u001b[0m \u001b[0md_top_tf\u001b[0m\u001b[1;33m,\u001b[0m \u001b[0mstride\u001b[0m\u001b[1;33m)\u001b[0m\u001b[1;33m[\u001b[0m\u001b[1;36m1\u001b[0m\u001b[1;33m]\u001b[0m\u001b[1;33m)\u001b[0m\u001b[1;33m)\u001b[0m\u001b[1;33m)\u001b[0m\u001b[1;33m\u001b[0m\u001b[1;33m\u001b[0m\u001b[0m\n",
      "\u001b[1;31mNameError\u001b[0m: name 'your_dw' is not defined"
     ]
    }
   ],
   "source": [
    "####################################################\n",
    "# Verification/checking code. Don't change it.     #\n",
    "####################################################\n",
    "d_top_tf = tf.constant(d_top, shape=your_feedforward.shape)\n",
    "def conv2d_backward_2(x, w, b, d, stride):\n",
    "    # stride in tf implementation is in the format: [1, x_movement, y_movement, 1]\n",
    "\n",
    "    dw_tf =  tf.compat.v1.nn.conv2d_backprop_filter(x, w, d, [1, stride, stride, 1], padding = \"SAME\")\n",
    "    with tf.GradientTape() as g:\n",
    "        g.watch(b)\n",
    "        y = conv2d_forward_2(X_tf, w_tf, b, stride) * d\n",
    "    dy_dx = g.gradient(y, b)\n",
    "    return dw_tf, dy_dx\n",
    "\n",
    "print(\"Are your weights' gradients correct? {}\".format(np.allclose(your_dw, conv2d_backward_2(X_tf, w_shape, b_tf, d_top_tf, stride)[0])))\n",
    "print(\"Are your biases' gradients correct? {}\".format(np.allclose(your_db, conv2d_backward_2(X_tf, w_shape, b_tf, d_top_tf, stride)[1])))"
   ]
  },
  {
   "cell_type": "markdown",
   "metadata": {},
   "source": [
    "### avg pool feedforward\n",
    "\n",
    "Implement a NumPy naive average pool feedforward function. We ask you to simply find the average in your pooling window. Also, don't need to worry about the efficiency of your function. Use loops as many as you like.\n",
    "\n",
    "<span style=\"color:red\">__TODO:__</span> Finish the function __avg_pool_forward__ in __utils/layer_funcs.py__. After that, run the following cell blocks, which will give the output of your average pool function. Detailed instructions have been given in the comments of __layer_func.py__. __We need to judge your output to give you credits__."
   ]
  },
  {
   "cell_type": "code",
   "execution_count": 101,
   "metadata": {},
   "outputs": [],
   "source": [
    "import numpy as np\n",
    "import tensorflow as tf"
   ]
  },
  {
   "cell_type": "code",
   "execution_count": 102,
   "metadata": {},
   "outputs": [
    {
     "name": "stdout",
     "output_type": "stream",
     "text": [
      "[[-0.5        -0.47986577 -0.45973154 -0.43959732 -0.41946309]\n",
      " [-0.39932886 -0.37919463 -0.3590604  -0.33892617 -0.31879195]\n",
      " [-0.29865772 -0.27852349 -0.25838926 -0.23825503 -0.21812081]\n",
      " [-0.19798658 -0.17785235 -0.15771812 -0.13758389 -0.11744966]\n",
      " [-0.09731544 -0.07718121 -0.05704698 -0.03691275 -0.01677852]]\n",
      "[[-0.43959732 -0.39932886]\n",
      " [-0.23825503 -0.19798658]]\n",
      "Your feedforward result size :(2, 2, 2, 3)\n"
     ]
    }
   ],
   "source": [
    "from utils.layer_funcs import avg_pool_forward\n",
    "\n",
    "# Set test parameters.\n",
    "x_shape = (2, 5, 5, 3) #(batch, height, width, channels)\n",
    "x = np.linspace(-0.5, 0.5, num=np.prod(x_shape)).reshape(x_shape)\n",
    "print(x[0,:,:,0])\n",
    "\n",
    "pool_size = 2\n",
    "stride = 2\n",
    "\n",
    "your_feedforward = avg_pool_forward(x, pool_size, stride)\n",
    "\n",
    "print(your_feedforward[0,:,:,0])\n",
    "print(\"Your feedforward result size :{}\".format(your_feedforward.shape))\n"
   ]
  },
  {
   "cell_type": "code",
   "execution_count": 103,
   "metadata": {},
   "outputs": [
    {
     "name": "stdout",
     "output_type": "stream",
     "text": [
      "tf.Tensor(\n",
      "[[-0.43959732 -0.39932886]\n",
      " [-0.23825503 -0.19798658]], shape=(2, 2), dtype=float64)\n",
      "Is your feedforward correct? True\n"
     ]
    }
   ],
   "source": [
    "####################################################\n",
    "# Verification/checking code. Don't change it.     #\n",
    "####################################################\n",
    "X_tf = tf.constant(x, shape=x_shape)\n",
    "\n",
    "def avgpool_forward_2(x, pool_size, stride):\n",
    "    avgpool_forward = tf.nn.avg_pool(x, [1, pool_size, pool_size, 1], [1, stride, stride, 1], padding='VALID')\n",
    "    return avgpool_forward\n",
    "\n",
    "## Print validation result\n",
    "print(avgpool_forward_2(X_tf, pool_size, stride)[0,:,:,0])\n",
    "print(\"Is your feedforward correct? {}\".format(np.allclose(your_feedforward, avgpool_forward_2(X_tf, pool_size, stride))))"
   ]
  },
  {
   "cell_type": "markdown",
   "metadata": {},
   "source": [
    "### avg pool backpropogation (optional, bonus +5 points)\n",
    "\n",
    "<p style=\"color:red\">This function is optional, but a bonus 5 points will be given if you solve it correctly.</p>\n",
    "\n",
    "Implement a Numpy naive average pooling backpropagation function. Again, don't worry about the efficiency.\n",
    "\n",
    "<span style=\"color:red\">__TODO:__</span> Finish the function __avg_pool_backward__ in __utils/layer_funcs.py__. After that, run the following cell blocks, which will give the output of your backpropagation. Detailed instructions have been given in the comments of __layer_func.py__. __We need to judge your output to give you credits__."
   ]
  },
  {
   "cell_type": "code",
   "execution_count": 104,
   "metadata": {
    "scrolled": false
   },
   "outputs": [
    {
     "data": {
      "text/plain": [
       "array([[[[ 0.04052804,  0.76852314,  1.43557123],\n",
       "         [-1.44143305, -0.16502581, -0.40707107]],\n",
       "\n",
       "        [[-1.93467741, -0.03705082,  0.17816613],\n",
       "         [ 0.37106995,  0.27139764, -0.74321381]]],\n",
       "\n",
       "\n",
       "       [[[-1.04905893, -1.6300782 , -1.27665862],\n",
       "         [-0.47554248, -1.34920378,  1.12871537]],\n",
       "\n",
       "        [[-1.42368627, -1.89730853, -0.01019288],\n",
       "         [-0.97841259, -1.14581069,  2.01732889]]]])"
      ]
     },
     "execution_count": 104,
     "metadata": {},
     "output_type": "execute_result"
    }
   ],
   "source": [
    "from utils.layer_funcs import avg_pool_backward\n",
    "\n",
    "# Set test parameters. Please don't change it.\n",
    "np.random.seed(235)\n",
    "dout = np.random.normal(size=your_feedforward.shape)\n",
    "dx = avg_pool_backward(dout, x, pool_size, stride)\n",
    "\n",
    "dout"
   ]
  },
  {
   "cell_type": "code",
   "execution_count": 105,
   "metadata": {
    "scrolled": true
   },
   "outputs": [
    {
     "name": "stdout",
     "output_type": "stream",
     "text": [
      "Your inputs' gradients result (size :(2, 5, 5, 3)) is: \n",
      "[[ 0.01013201  0.01013201 -0.36035827 -0.36035827  0.        ]\n",
      " [ 0.01013201  0.01013201 -0.36035827 -0.36035827  0.        ]\n",
      " [-0.48366934 -0.48366934  0.09276749  0.09276749  0.        ]\n",
      " [-0.48366934 -0.48366934  0.09276749  0.09276749  0.        ]\n",
      " [ 0.          0.          0.          0.          0.        ]]\n"
     ]
    }
   ],
   "source": [
    "from utils.layer_funcs import avg_pool_backward\n",
    "\n",
    "# Set test parameters. Please don't change it.\n",
    "np.random.seed(235)\n",
    "dout = np.random.normal(size=your_feedforward.shape)\n",
    "dx = avg_pool_backward(dout, x, pool_size, stride)\n",
    "\n",
    "print(\"Your inputs' gradients result (size :{}) is: \".format(dx.shape))\n",
    "print(dx[0,:,:,0])"
   ]
  },
  {
   "cell_type": "code",
   "execution_count": 106,
   "metadata": {},
   "outputs": [
    {
     "name": "stdout",
     "output_type": "stream",
     "text": [
      "**************************************************\n",
      "tf.Tensor(\n",
      "[[ 0.01013201  0.01013201 -0.36035826 -0.36035826  0.        ]\n",
      " [ 0.01013201  0.01013201 -0.36035826 -0.36035826  0.        ]\n",
      " [-0.48366935 -0.48366935  0.09276749  0.09276749  0.        ]\n",
      " [-0.48366935 -0.48366935  0.09276749  0.09276749  0.        ]\n",
      " [ 0.          0.          0.          0.          0.        ]], shape=(5, 5), dtype=float64)\n",
      "Is your inputs' gradients correct? True\n"
     ]
    }
   ],
   "source": [
    "#######################################\n",
    "# Checking code. Don't change it.     #\n",
    "#######################################\n",
    "d_out_tf = tf.constant(dout, shape=your_feedforward.shape)\n",
    "\n",
    "def avg_pool_backward_2(x, d):\n",
    "    with tf.GradientTape() as g:\n",
    "        g.watch(x)\n",
    "        y = avgpool_forward_2(X_tf, pool_size, stride) * d\n",
    "    dy_dx = g.gradient(y, x)\n",
    "    return dy_dx\n",
    "# ## Print validation result\n",
    "print('*'*50)\n",
    "print(avg_pool_backward_2(X_tf, d_out_tf)[0,:,:,0])\n",
    "print(\"Is your inputs' gradients correct? {}\".format(np.allclose(dx, avg_pool_backward_2(X_tf, d_out_tf))))"
   ]
  },
  {
   "cell_type": "markdown",
   "metadata": {},
   "source": [
    "## Part 2: TensorFlow CNN"
   ]
  },
  {
   "cell_type": "markdown",
   "metadata": {},
   "source": [
    "In this part we will construct the CNN in TensorFlow. We will implement a CNN similar to the LeNet structure.\n",
    "\n",
    "TensorFlow offers many useful resources and functions which help developers build the net in a high-level fashion, such as functions in the `layer` module. By utilizing functions in `tf.keras` that exist for Neural Network structuring and training, we can build our own layers and network modules rather quickly.\n",
    "\n",
    "Also, we will introduce a visualization tool called Tensorboard. You can use Tensorboard to visualize your TensorFlow graph, plot quantitative metrics about the execution of your graph, and show additional data that passes through it.\n",
    "\n",
    "Resources and References: <br>\n",
    "* [TensorBoard: Visualizing Learning](https://www.tensorflow.org/get_started/summaries_and_tensorboard)<br>\n",
    "* [Convolutional Neural Networks (LeNet) - DeepLearning 0.1 documentation](http://deeplearning.net/tutorial/lenet.html)<br>\n",
    "* [LeNet-5, convolutional neural networks](http://yann.lecun.com/exdb/lenet/)"
   ]
  },
  {
   "cell_type": "markdown",
   "metadata": {},
   "source": [
    "### Quick guide for Tensorboard\n",
    "\n",
    "Tensorboard is a powerful tool provided by TensorFlow. It allows developers to check their graph and trend of parameters. This guide will give you a basic understanding on how to initiate the Tensorboard Jupyter Notebook extension and how to understand the results of the training of your model.\n",
    "\n",
    "For more information, check the official guide on Tensorflow web site [here](https://www.tensorflow.org/get_started/summaries_and_tensorboard).\n",
    "\n",
    "### How to start Tensorboard\n",
    "\n",
    "The cell at the bottom of the Jupyter Notebook should be executed once the model has been trained. In the TensorBoard notebook extension, you will be able to see the training/validation accuracies and loss graphs associated with each model fit. The most recent results can be filtered in the bottom-left hand corner by selecting the most recent training and validation results at the bottom of the list.\n",
    "\n",
    "### Check the graph and summary in Tensorboard\n",
    "\n",
    "After executing the cell once, you should able to see the metrics displayed in the tensorboard. \n",
    "\n",
    "![Tensorboard_2](./utils/notebook_images/Task3_2_2_metrics.png)\n",
    "\n",
    "\n",
    "Also, you may able zoom in or zoom out or click into the layer block to check all the variables and tensor operations in the graph, check the trend of the variables and the distribution of those in Scalar, Distributions and Histograms. You may explore the tensorboard by yourself and take advantage to it for debuging the nerwork structure."
   ]
  },
  {
   "cell_type": "markdown",
   "metadata": {},
   "source": [
    "<span style=\"color:red\">__TODO:__</span> You will try to achieve your own CNN model below that has similar structure to LeNet, show the model graph in tensorboard, and get a model with __90% or higher accuracy__ using the data we provide you. You will use the Keras API to build your model.\n",
    "\n",
    "There is example code for a simplified LeNet model in __utils/neuralnets/cnn/model_LeNet.py__. This sample is used as a guide line for how to build a Neural Net model in Tensorflow using Keras functions. Feel free to study the code and use it to build your own CNN below."
   ]
  },
  {
   "cell_type": "markdown",
   "metadata": {},
   "source": [
    "<span style=\"color:red\">__TODO:__</span>\n",
    "1. Edit the TODO cell below for the **create_model()** function. Create your own CNN that is based on the LeNet structure to achieve at least **90% test accuracy.**\n",
    "2. Print out the training process and the best validation accuracy, save the model in __model/__ folder.\n",
    "3. Attach a screenshot of your tensorboard graph in the markdown cell below. Double click the cell and replace the example image with your own image. Here is a [Markdown Cheetsheet](https://github.com/adam-p/markdown-here/wiki/Markdown-Cheatsheet#images) that may also help.\n",
    "\n",
    "__Hint__: \n",
    "1. You may add/modify layers to your CNN to achieve the 90% test accuracy.\n"
   ]
  },
  {
   "cell_type": "markdown",
   "metadata": {},
   "source": [
    "# Sequential implementation."
   ]
  },
  {
   "cell_type": "code",
   "execution_count": 107,
   "metadata": {},
   "outputs": [],
   "source": [
    "import datetime\n",
    "import tensorflow as tf\n",
    "from tensorflow.keras.models import Sequential\n",
    "from tensorflow.keras.layers import Dense, Flatten, Conv2D, AveragePooling2D, MaxPooling2D\n",
    "from tensorflow.keras import Model\n",
    "from tensorflow.keras.utils import to_categorical\n",
    "from tensorflow.keras.losses import categorical_crossentropy\n",
    "import datetime"
   ]
  },
  {
   "cell_type": "code",
   "execution_count": 108,
   "metadata": {},
   "outputs": [],
   "source": [
    "#Load data from the Fashion MNIST dataset\n",
    "fashion_mnist = tf.keras.datasets.fashion_mnist\n",
    "\n",
    "(x_train, y_train), (x_test, y_test) = fashion_mnist.load_data()\n",
    "x_train, x_test = x_train / 255.0, x_test / 255.0\n",
    "\n",
    "# Add a channels dimension\n",
    "x_train = x_train[..., tf.newaxis].astype(\"float32\")\n",
    "x_test = x_test[..., tf.newaxis].astype(\"float32\")"
   ]
  },
  {
   "cell_type": "markdown",
   "metadata": {},
   "source": [
    "<span style=\"color:red\">__TODO:__</span>\n",
    "Modify the __create_model()__ function to return a model that can achieve **90% or higher validation accuracy**. For more information on the Keras API, please see https://www.tensorflow.org/api_docs/python/tf/keras."
   ]
  },
  {
   "cell_type": "code",
   "execution_count": 121,
   "metadata": {},
   "outputs": [],
   "source": [
    "import tensorflow\n",
    "def create_model():\n",
    "    model = tf.keras.models.Sequential()\n",
    "    \n",
    "    #TODO: Add layers below\n",
    "\n",
    "## loss: 0.2720 - accuracy: 0.9003 - val_loss: 0.3255 - val_accuracy: 0.8816\n",
    "#     model.add(Conv2D(filters=6, kernel_size=5, activation='tanh',padding='valid'))\n",
    "#     model.add(AveragePooling2D(pool_size=2, strides=2))\n",
    "#     model.add(Flatten())\n",
    "#     model.add(Dense(120, activation='tanh'))\n",
    "#     model.add(Dense(10,activation = \"softmax\"))\n",
    "\n",
    "# ##  loss: 0.2852 - accuracy: 0.8946 - val_loss: 0.3293 - val_accuracy: 0.8814\n",
    "# ## loss: 0.2143 - accuracy: 0.9204 - val_loss: 0.3110 - val_accuracy: 0.8913  epoch = 20\n",
    "    \n",
    "#  loss: 0.2503 - accuracy: 0.9070 - val_loss: 0.3234 - val_accuracy: 0.8812  /20\n",
    "    model.add(Conv2D(filters=8, kernel_size=5, activation='tanh',padding='same'))\n",
    "    model.add(AveragePooling2D(pool_size=2, strides=2))\n",
    "    model.add(Conv2D(filters=36, kernel_size=5,activation='tanh'))\n",
    "    model.add(AveragePooling2D(pool_size=5, strides=2))\n",
    "    model.add(Flatten())\n",
    "    model.add(Dense(120, activation='tanh'))\n",
    "    model.add(Dense(80, activation='tanh'))\n",
    "    model.add(Dense(30, activation='relu'))\n",
    "    model.add(Dense(10, activation = \"softmax\"))\n",
    "\n",
    "##  loss: 0.5155 - accuracy: 0.8033 - val_loss: 0.5359 - val_accuracy: 0.7972\n",
    "#     model.add(Conv2D(filters=6, kernel_size=5, activation='sigmoid',padding='valid'))\n",
    "#     model.add(AveragePooling2D(pool_size=2, strides=2))\n",
    "#     model.add(Conv2D(filters=16, kernel_size=5,activation='sigmoid'))\n",
    "#     model.add(AveragePooling2D(pool_size=2, strides=2))\n",
    "#     model.add(Flatten())\n",
    "#     model.add(Dense(120, activation='sigmoid'))\n",
    "#     model.add(Dense(84, activation='sigmoid'))\n",
    "#     model.add(Dense(10, activation = \"softmax\"))\n",
    "    \n",
    "##  loss: 0.3092 - accuracy: 0.8864 - val_loss: 0.3506 - val_accuracy: 0.8722\n",
    "#     model.add(Conv2D(filters=6, kernel_size=5, activation='tanh',padding='valid'))\n",
    "#     model.add(AveragePooling2D(pool_size=2, strides=2))\n",
    "#     model.add(Conv2D(filters=16, kernel_size=5,activation='tanh'))\n",
    "#     model.add(AveragePooling2D(pool_size=2, strides=2))\n",
    "#     model.add(Flatten())\n",
    "#     model.add(Dense(120, activation='tanh'))\n",
    "#     model.add(Dense(84, activation='tanh'))\n",
    "#     model.add(Dense(10, activation = \"softmax\"))\n",
    "\n",
    "##  loss: 0.2503 - accuracy: 0.9070 - val_loss: 0.3234 - val_accuracy: 0.8812  /20\n",
    "#     model.add(Conv2D(filters=6, kernel_size=5, activation='tanh',padding='same'))\n",
    "#     model.add(AveragePooling2D(pool_size=2, strides=2))\n",
    "#     model.add(Conv2D(filters=32, kernel_size=5,activation='tanh'))\n",
    "#     model.add(AveragePooling2D(pool_size=3, strides=2))\n",
    "#     model.add(Flatten())\n",
    "#     model.add(Dense(120, activation='tanh'))\n",
    "#     model.add(Dense(80, activation='tanh'))\n",
    "#     model.add(Dense(10, activation = \"softmax\"))\n",
    "\n",
    "\n",
    "    \n",
    "    return model"
   ]
  },
  {
   "cell_type": "code",
   "execution_count": 122,
   "metadata": {},
   "outputs": [
    {
     "name": "stdout",
     "output_type": "stream",
     "text": [
      "Epoch 1/40\n",
      "235/235 [==============================] - 7s 26ms/step - loss: 0.8986 - accuracy: 0.6741 - val_loss: 0.6808 - val_accuracy: 0.7401\n",
      "Epoch 2/40\n",
      "235/235 [==============================] - 6s 27ms/step - loss: 0.6200 - accuracy: 0.7608 - val_loss: 0.6271 - val_accuracy: 0.7604\n",
      "Epoch 3/40\n",
      "235/235 [==============================] - 6s 25ms/step - loss: 0.5539 - accuracy: 0.7928 - val_loss: 0.5795 - val_accuracy: 0.7794\n",
      "Epoch 4/40\n",
      "235/235 [==============================] - 6s 23ms/step - loss: 0.5135 - accuracy: 0.8092 - val_loss: 0.5264 - val_accuracy: 0.8024\n",
      "Epoch 5/40\n",
      "235/235 [==============================] - 6s 25ms/step - loss: 0.4845 - accuracy: 0.8192 - val_loss: 0.5147 - val_accuracy: 0.8078\n",
      "Epoch 6/40\n",
      "235/235 [==============================] - 6s 24ms/step - loss: 0.4578 - accuracy: 0.8308 - val_loss: 0.4816 - val_accuracy: 0.8228\n",
      "Epoch 7/40\n",
      "235/235 [==============================] - 6s 27ms/step - loss: 0.4346 - accuracy: 0.8388 - val_loss: 0.4531 - val_accuracy: 0.8353\n",
      "Epoch 8/40\n",
      "235/235 [==============================] - 7s 29ms/step - loss: 0.4154 - accuracy: 0.8454 - val_loss: 0.4521 - val_accuracy: 0.8356\n",
      "Epoch 9/40\n",
      "235/235 [==============================] - 7s 28ms/step - loss: 0.4017 - accuracy: 0.8523 - val_loss: 0.4462 - val_accuracy: 0.8355\n",
      "Epoch 10/40\n",
      "235/235 [==============================] - 6s 26ms/step - loss: 0.3880 - accuracy: 0.8553 - val_loss: 0.4232 - val_accuracy: 0.8453\n",
      "Epoch 11/40\n",
      "235/235 [==============================] - 7s 28ms/step - loss: 0.3712 - accuracy: 0.8627 - val_loss: 0.4322 - val_accuracy: 0.8343\n",
      "Epoch 12/40\n",
      "235/235 [==============================] - 6s 26ms/step - loss: 0.3652 - accuracy: 0.8649 - val_loss: 0.4132 - val_accuracy: 0.8477\n",
      "Epoch 13/40\n",
      "235/235 [==============================] - 6s 25ms/step - loss: 0.3564 - accuracy: 0.8669 - val_loss: 0.4019 - val_accuracy: 0.8510\n",
      "Epoch 14/40\n",
      "235/235 [==============================] - 5s 23ms/step - loss: 0.3471 - accuracy: 0.8710 - val_loss: 0.4073 - val_accuracy: 0.8511\n",
      "Epoch 15/40\n",
      "235/235 [==============================] - 6s 27ms/step - loss: 0.3420 - accuracy: 0.8728 - val_loss: 0.3801 - val_accuracy: 0.8584\n",
      "Epoch 16/40\n",
      "235/235 [==============================] - 6s 26ms/step - loss: 0.3313 - accuracy: 0.8777 - val_loss: 0.3747 - val_accuracy: 0.8619\n",
      "Epoch 17/40\n",
      "235/235 [==============================] - 6s 27ms/step - loss: 0.3270 - accuracy: 0.8781 - val_loss: 0.3714 - val_accuracy: 0.8636\n",
      "Epoch 18/40\n",
      "235/235 [==============================] - 6s 26ms/step - loss: 0.3226 - accuracy: 0.8806 - val_loss: 0.3620 - val_accuracy: 0.8659\n",
      "Epoch 19/40\n",
      "235/235 [==============================] - 6s 27ms/step - loss: 0.3164 - accuracy: 0.8828 - val_loss: 0.3625 - val_accuracy: 0.8657\n",
      "Epoch 20/40\n",
      "235/235 [==============================] - 6s 26ms/step - loss: 0.3073 - accuracy: 0.8862 - val_loss: 0.3687 - val_accuracy: 0.8618\n",
      "Epoch 21/40\n",
      "235/235 [==============================] - 5s 23ms/step - loss: 0.3031 - accuracy: 0.8873 - val_loss: 0.3470 - val_accuracy: 0.8757\n",
      "Epoch 22/40\n",
      "235/235 [==============================] - 6s 25ms/step - loss: 0.2982 - accuracy: 0.8889 - val_loss: 0.3518 - val_accuracy: 0.8711\n",
      "Epoch 23/40\n",
      "235/235 [==============================] - 5s 23ms/step - loss: 0.2969 - accuracy: 0.8896 - val_loss: 0.3485 - val_accuracy: 0.8695\n",
      "Epoch 24/40\n",
      "235/235 [==============================] - 6s 26ms/step - loss: 0.2914 - accuracy: 0.8916 - val_loss: 0.3421 - val_accuracy: 0.8747\n",
      "Epoch 25/40\n",
      "235/235 [==============================] - 7s 28ms/step - loss: 0.2855 - accuracy: 0.8937 - val_loss: 0.3445 - val_accuracy: 0.8715\n",
      "Epoch 26/40\n",
      "235/235 [==============================] - 6s 26ms/step - loss: 0.2821 - accuracy: 0.8950 - val_loss: 0.3479 - val_accuracy: 0.8711\n",
      "Epoch 27/40\n",
      "235/235 [==============================] - 6s 25ms/step - loss: 0.2781 - accuracy: 0.8961 - val_loss: 0.3474 - val_accuracy: 0.8751\n",
      "Epoch 28/40\n",
      "235/235 [==============================] - 6s 24ms/step - loss: 0.2748 - accuracy: 0.8981 - val_loss: 0.3410 - val_accuracy: 0.8749\n",
      "Epoch 29/40\n",
      "235/235 [==============================] - 6s 24ms/step - loss: 0.2715 - accuracy: 0.8986 - val_loss: 0.3398 - val_accuracy: 0.8762\n",
      "Epoch 30/40\n",
      "235/235 [==============================] - 6s 24ms/step - loss: 0.2692 - accuracy: 0.8991 - val_loss: 0.3251 - val_accuracy: 0.8828\n",
      "Epoch 31/40\n",
      "235/235 [==============================] - 5s 23ms/step - loss: 0.2630 - accuracy: 0.9015 - val_loss: 0.3295 - val_accuracy: 0.8800\n",
      "Epoch 32/40\n",
      "235/235 [==============================] - 6s 24ms/step - loss: 0.2600 - accuracy: 0.9037 - val_loss: 0.3263 - val_accuracy: 0.8789\n",
      "Epoch 33/40\n",
      "235/235 [==============================] - 6s 24ms/step - loss: 0.2580 - accuracy: 0.9045 - val_loss: 0.3163 - val_accuracy: 0.8854\n",
      "Epoch 34/40\n",
      "235/235 [==============================] - 6s 24ms/step - loss: 0.2548 - accuracy: 0.9046 - val_loss: 0.3332 - val_accuracy: 0.8782\n",
      "Epoch 35/40\n",
      "235/235 [==============================] - 6s 24ms/step - loss: 0.2511 - accuracy: 0.9062 - val_loss: 0.3210 - val_accuracy: 0.8832\n",
      "Epoch 36/40\n",
      "235/235 [==============================] - 6s 24ms/step - loss: 0.2450 - accuracy: 0.9092 - val_loss: 0.3294 - val_accuracy: 0.8791\n",
      "Epoch 37/40\n",
      "235/235 [==============================] - 6s 24ms/step - loss: 0.2438 - accuracy: 0.9089 - val_loss: 0.3148 - val_accuracy: 0.8881\n",
      "Epoch 38/40\n",
      "235/235 [==============================] - 6s 24ms/step - loss: 0.2416 - accuracy: 0.9090 - val_loss: 0.3371 - val_accuracy: 0.8798\n",
      "Epoch 39/40\n",
      "235/235 [==============================] - 6s 24ms/step - loss: 0.2391 - accuracy: 0.9100 - val_loss: 0.3257 - val_accuracy: 0.8842\n",
      "Epoch 40/40\n",
      "235/235 [==============================] - 5s 23ms/step - loss: 0.2356 - accuracy: 0.9115 - val_loss: 0.3160 - val_accuracy: 0.8875\n"
     ]
    }
   ],
   "source": [
    "#Create the model, compile the model, and fit it\n",
    "model_test = create_model()\n",
    "model_test.compile(optimizer='adam',\n",
    "              loss='sparse_categorical_crossentropy',\n",
    "              metrics=['accuracy'])\n",
    "log_dir = \"logs/fit/\" + datetime.datetime.now().strftime(\"%Y%m%d-%H%M%S\")\n",
    "tensorboard_callback = tf.keras.callbacks.TensorBoard(log_dir=log_dir, histogram_freq=1)\n",
    "history1 = model_test.fit(x=x_train, \n",
    "          y=y_train,\n",
    "          batch_size=256,\n",
    "          epochs=40, \n",
    "          validation_data=(x_test, y_test), \n",
    "          callbacks=[tensorboard_callback])"
   ]
  },
  {
   "cell_type": "markdown",
   "metadata": {},
   "source": [
    "<span style=\"color:red\">__TODO:__</span>\n",
    "Save the best performing model to the **model/** directory using the code below."
   ]
  },
  {
   "cell_type": "code",
   "execution_count": 63,
   "metadata": {},
   "outputs": [
    {
     "name": "stdout",
     "output_type": "stream",
     "text": [
      "INFO:tensorflow:Assets written to: ./model/task3_model\\assets\n"
     ]
    }
   ],
   "source": [
    "model_test.save(filepath = \"./model/task3_model\")"
   ]
  },
  {
   "cell_type": "markdown",
   "metadata": {},
   "source": [
    "#### For future reference, a model can be loaded using load_model() on the file path containing your saved model:"
   ]
  },
  {
   "cell_type": "code",
   "execution_count": 64,
   "metadata": {},
   "outputs": [
    {
     "name": "stdout",
     "output_type": "stream",
     "text": [
      "Model: \"sequential_21\"\n",
      "_________________________________________________________________\n",
      "Layer (type)                 Output Shape              Param #   \n",
      "=================================================================\n",
      "conv2d_43 (Conv2D)           (None, 28, 28, 6)         156       \n",
      "_________________________________________________________________\n",
      "average_pooling2d_79 (Averag (None, 14, 14, 6)         0         \n",
      "_________________________________________________________________\n",
      "conv2d_44 (Conv2D)           (None, 10, 10, 32)        4832      \n",
      "_________________________________________________________________\n",
      "average_pooling2d_80 (Averag (None, 4, 4, 32)          0         \n",
      "_________________________________________________________________\n",
      "flatten_21 (Flatten)         (None, 512)               0         \n",
      "_________________________________________________________________\n",
      "dense_63 (Dense)             (None, 120)               61560     \n",
      "_________________________________________________________________\n",
      "dense_64 (Dense)             (None, 80)                9680      \n",
      "_________________________________________________________________\n",
      "dense_65 (Dense)             (None, 10)                810       \n",
      "=================================================================\n",
      "Total params: 77,038\n",
      "Trainable params: 77,038\n",
      "Non-trainable params: 0\n",
      "_________________________________________________________________\n",
      "None\n"
     ]
    }
   ],
   "source": [
    "loaded_model = tf.keras.models.load_model(\"./model/task3_model\")\n",
    "print(loaded_model.summary())"
   ]
  },
  {
   "cell_type": "markdown",
   "metadata": {},
   "source": [
    "<span style=\"color:red\">__TODO:__</span>\n",
    "Generate the TensorBoard notebook extension and attach a screenshot of the train/test accuracy and loss graphs below the Solution cell."
   ]
  },
  {
   "cell_type": "code",
   "execution_count": 65,
   "metadata": {},
   "outputs": [
    {
     "data": {
      "text/plain": [
       "Reusing TensorBoard on port 6006 (pid 37068), started 2 days, 9:39:48 ago. (Use '!kill 37068' to kill it.)"
      ]
     },
     "metadata": {},
     "output_type": "display_data"
    },
    {
     "data": {
      "text/html": [
       "\n",
       "      <iframe id=\"tensorboard-frame-c49d019df1a57d1a\" width=\"100%\" height=\"800\" frameborder=\"0\">\n",
       "      </iframe>\n",
       "      <script>\n",
       "        (function() {\n",
       "          const frame = document.getElementById(\"tensorboard-frame-c49d019df1a57d1a\");\n",
       "          const url = new URL(\"/\", window.location);\n",
       "          const port = 6006;\n",
       "          if (port) {\n",
       "            url.port = port;\n",
       "          }\n",
       "          frame.src = url;\n",
       "        })();\n",
       "      </script>\n",
       "    "
      ],
      "text/plain": [
       "<IPython.core.display.HTML object>"
      ]
     },
     "metadata": {},
     "output_type": "display_data"
    }
   ],
   "source": [
    "# Load the TensorBoard notebook extension\n",
    "%load_ext tensorboard\n",
    "%tensorboard --logdir logs/fit --bind_all"
   ]
  },
  {
   "cell_type": "markdown",
   "metadata": {},
   "source": [
    "## Solution"
   ]
  },
  {
   "cell_type": "code",
   "execution_count": null,
   "metadata": {},
   "outputs": [],
   "source": []
  }
 ],
 "metadata": {
  "kernelspec": {
   "display_name": "Python 3",
   "language": "python",
   "name": "python3"
  },
  "language_info": {
   "codemirror_mode": {
    "name": "ipython",
    "version": 3
   },
   "file_extension": ".py",
   "mimetype": "text/x-python",
   "name": "python",
   "nbconvert_exporter": "python",
   "pygments_lexer": "ipython3",
   "version": "3.8.8"
  }
 },
 "nbformat": 4,
 "nbformat_minor": 4
}
