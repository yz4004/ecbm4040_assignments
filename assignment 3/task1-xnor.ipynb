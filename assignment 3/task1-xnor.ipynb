{
 "cells": [
  {
   "cell_type": "markdown",
   "metadata": {},
   "source": [
    "## Columbia University\n",
    "### ECBM E4040 Neural Networks and Deep Learning. Fall 2021."
   ]
  },
  {
   "cell_type": "markdown",
   "metadata": {},
   "source": [
    "# Task 1: XNOR"
   ]
  },
  {
   "cell_type": "code",
   "execution_count": 5,
   "metadata": {},
   "outputs": [
    {
     "name": "stdout",
     "output_type": "stream",
     "text": [
      "2.7.0\n"
     ]
    }
   ],
   "source": [
    "# Import modules\n",
    "from __future__ import print_function\n",
    "import tensorflow as tf\n",
    "\n",
    "physical_devices = tf.config.list_physical_devices('GPU')\n",
    "tf.config.experimental.set_memory_growth(physical_devices[0], enable=True)\n",
    "\n",
    "import numpy as np\n",
    "from numpy.random import shuffle\n",
    "import time\n",
    "import matplotlib.pyplot as plt\n",
    "\n",
    "# Plot configurations\n",
    "%matplotlib inline\n",
    "\n",
    "# Notebook auto reloads code. (Ref: http://stackoverflow.com/questions/1907993/autoreload-of-modules-in-ipython)\n",
    "%load_ext autoreload\n",
    "%autoreload 2\n",
    "print(tf.__version__)"
   ]
  },
  {
   "cell_type": "markdown",
   "metadata": {},
   "source": [
    "##  Part 1: Backpropagation through time (BPTT)"
   ]
  },
  {
   "cell_type": "markdown",
   "metadata": {},
   "source": [
    "**Question:** Consider a simple RNN network shown in the following figure, where _wx, wh, b1, w, b2_ are the scalar parameters of the network. The loss function is the **mean squared error (MSE)**. Given input _(x1, x2) = (-1, 2)_, ground truth _(g1, g2) = (0, 1), h0 = 0, and (wx, wh, b1, w, b2) = (3, 1, 2, -1, 1)_, **compute _(dwx, dwh, db1, dw, db2)_**, which are the gradients of loss with repect to 5 parameters _(wx, wh, b1, w, b2)_.\n",
    "\n",
    "![bptt](./img/bptt2.jpg)"
   ]
  },
  {
   "cell_type": "markdown",
   "metadata": {},
   "source": [
    "<span style=\"color:red\">TODO:</span>\n",
    "\n",
    "Answer the above question. \n",
    "\n",
    "* Show all of your derivations and the computational process.\n",
    "* Use LATEX to edit the equations (Jupyter notebook can recognize the basic LATEX syntax). Alternatively, you can edit equations in some other environment and then paste the screenshot of the equations here."
   ]
  },
  {
   "cell_type": "markdown",
   "metadata": {},
   "source": [
    "<span style=\"color:red\">Solution:</span>\n",
    "\n",
    "**[fill in here: Enter your derivations and the computational process]**\n"
   ]
  },
  {
   "cell_type": "markdown",
   "metadata": {},
   "source": [
    "$ J = \\sum_{i=1}^2 J_i $ \n",
    "\n",
    "$ J_i = \\| y_i - g_i \\|^2 $, \n",
    "\n",
    "$ y_2 = \\sigma ( w*h_2 + b_2) $ \n",
    "\n",
    "$ h_2 = \\sigma(w_x x_2 + w_h h_1 + b_1) $ \n",
    "\n",
    "$ y_1 = \\sigma ( w*h_1 + b_2) $\n",
    "\n",
    "$ h_1 = \\sigma(w_x x_1 + w_h h_0 + b_1) $\n",
    "\n",
    "$ \\sigma^{'} (x) = \\sigma(x) * (1 - \\sigma(x)) $"
   ]
  },
  {
   "cell_type": "markdown",
   "metadata": {},
   "source": [
    "$$\\begin{aligned}\n",
    "\\frac{\\partial J}{\\partial w}&=\\sum_{i=1}^2 \\frac{1}{2} \\frac{\\partial J_i}{\\partial w} \\\\ \n",
    "&=\\sum_{i=1}^2  (y_i - g_i) \\frac{\\partial y_i}{\\partial w} \\\\\n",
    "&=\\sum_{i=1}^2  (y_i - g_i) \\sigma(w h_i + b_2)*[1-\\sigma(w h_i + b_2)] h_i \\\\\n",
    "&= (y_1 - 0) y_1 (1-y_1) h_1 + (y_2 - 1) y_2 (1-y_2) h_2 \\\\\n",
    "&= -0.08512777681556812\n",
    "\\end{aligned}$$"
   ]
  },
  {
   "cell_type": "markdown",
   "metadata": {},
   "source": [
    "$$\\begin{aligned}\n",
    "\\frac{\\partial J}{\\partial b_2}&=\\sum_{i=1}^2 \\frac{1}{2} \\frac{\\partial J_i}{\\partial b_2} \\\\ \n",
    "&=\\sum_{i=1}^2  (y_i - g_i) \\frac{\\partial y_i}{\\partial b_2} \\\\\n",
    "&=\\sum_{i=1}^2  (y_i - g_i) \\sigma(w h_i + b_2)*[1-\\sigma(w h_i + b_2)]  \\\\\n",
    "&= (y_1 - 0) y_1 (1-y_1)+ (y_2 - 1) y_2 (1-y_2)\\\\\n",
    "&= 0.023093510510468193\n",
    "\\end{aligned}$$"
   ]
  },
  {
   "cell_type": "markdown",
   "metadata": {},
   "source": [
    "$$\\begin{aligned}\n",
    "\\frac{\\partial J}{\\partial w_h}&=\\sum_{i=1}^2 \\frac{1}{2} \\frac{\\partial J_i}{\\partial w_h} \\\\ \n",
    "&=\\sum_{i=1}^2  (y_i - g_i) \\frac{\\partial y_i}{\\partial w_h} \\\\\n",
    "&=\\sum_{i=1}^2  (y_i - g_i) \\sigma(w h_i + b_2)*[1-\\sigma(w h_i + b_2)] w\\frac{\\partial h_i}{\\partial w_h}  \\\\\n",
    "&=(y_1 - g_1) \\sigma(w h_1 + b_2)*[1-\\sigma(w h_1 + b_2)]*w* \\sigma(w_x x_1+w_h  h_0 + b_1)*[1-\\sigma(w_x x_1+w_h  h_0 + b_1)] h_0\\\\\n",
    "&+(y_2 - g_2) \\sigma(w h_2 + b_2)*[1-\\sigma(w h_2 + b_2)]*w* \\sigma(w_x x_2+w_h  h_1 + b_1)*[1-\\sigma(w_x x_2+w_h  h_1 + b_1)] (h_1 + w_h*\\frac{\\partial h_1}{\\partial w_h})\\\\\n",
    "&= - 2 (y_1 - 0) y_1 (1-y_1) h_1 (1-h_1) h_0 - (y_2 - 1) y_2 (1-y_2) h_2 (1-h_2) [h_1 + w_h h_1 (1-h_1) h_0] \\\\\n",
    "&=8.612590032788873e-06 \\\\\n",
    "&=0\n",
    "\\end{aligned}$$"
   ]
  },
  {
   "cell_type": "markdown",
   "metadata": {},
   "source": [
    "$$\\begin{aligned}\n",
    "\\frac{\\partial J}{\\partial b_1}&=\\sum_{i=1}^2 \\frac{1}{2} \\frac{\\partial J_i}{\\partial b_1} \\\\ \n",
    "&=\\sum_{i=1}^2  (y_i - g_i) \\frac{\\partial y_i}{\\partial b_1} \\\\\n",
    "&=\\sum_{i=1}^2  (y_i - g_i) \\sigma(w h_i + b_2)*[1-\\sigma(w h_i + b_2)]w \\frac{\\partial h_i}{\\partial b_1}  \\\\\n",
    "&=(y_1 - g_1) \\sigma(w h_1 + b_2)*[1-\\sigma(w h_1 + b_2)]*w* \\sigma(w_x x_1+w_h  h_0 + b_1)*[1-\\sigma(w_x x_1+w_h  h_0 + b_1)] \\\\\n",
    "&+(y_2 - g_2) \\sigma(w h_2 + b_2)*[1-\\sigma(w h_2 + b_2)]*w* \\sigma(w_x x_2+w_h  h_1 + b_1)*[1-\\sigma(w_x x_2+w_h  h_1 + b_1)] (1 + w_h*\\frac{\\partial h_1}{\\partial b_1})\\\\\n",
    "&=-2 (y_1 - 0) y_1 (1-y_1) h_1 (1-h_1) - (y_2 - 1) y_2 (1-y_2) h_2 (1-h_2) [1 + w_h h_1 (1-h_1) ]\\\\\n",
    "&=-0.029075481\n",
    "\\end{aligned}$$"
   ]
  },
  {
   "cell_type": "markdown",
   "metadata": {},
   "source": [
    "$$\\begin{aligned}\n",
    "\\frac{\\partial J}{\\partial w_x}&=\\sum_{i=1}^2 \\frac{1}{2} \\frac{\\partial J_i}{\\partial w_x} \\\\ \n",
    "&=\\sum_{i=1}^2  (y_i - g_i) \\frac{\\partial y_i}{\\partial w_x} \\\\\n",
    "&=\\sum_{i=1}^2  (y_i - g_i) \\sigma(w h_i + b_2)*[1-\\sigma(w h_i + b_2)]w \\frac{\\partial h_i}{\\partial w_x}  \\\\\n",
    "&=(y_1 - g_1) \\sigma(w h_1 + b_2)*[1-\\sigma(w h_1 + b_2)]*w* \\sigma(w_x x_1+w_h  h_0 + b_1)*[1-\\sigma(w_x x_1+w_h  h_0 + b_1)] x_1\\\\\n",
    "&+(y_2 - g_2) \\sigma(w h_2 + b_2)*[1-\\sigma(w h_2 + b_2)]*w*\\sigma(w_x x_2+w_h  h_1 + b_1)*[1-\\sigma(w_x x_2+w_h  h_1 + b_1)] (x_2 + w_h*\\frac{\\partial h_1}{\\partial w_x})\\\\\n",
    "&=-2 (y_1 - 0) y_1 (1-y_1) h_1 (1-h_1) x_1 - (y_2 - 1) y_2 (1-y_2) h_2 (1-h_2) (x_2 + w_h h_1 (1-h_1) h_0) \\\\\n",
    "&=0.029171553400083334\n",
    "\\end{aligned}$$"
   ]
  },
  {
   "cell_type": "code",
   "execution_count": 6,
   "metadata": {},
   "outputs": [
    {
     "data": {
      "text/plain": [
       "(-0.08512777681556812,\n",
       " 0.023093510510468193,\n",
       " 8.612590032788873e-06,\n",
       " -0.029075481289038675,\n",
       " 0.029171553400083334)"
      ]
     },
     "execution_count": 6,
     "metadata": {},
     "output_type": "execute_result"
    }
   ],
   "source": [
    "# calculator\n",
    "def sigmoid(x):\n",
    "    return 1/(1+np.exp(-x))\n",
    "e = np.e\n",
    "h_0 = 0\n",
    "h_1 = sigmoid(-1)\n",
    "h_2 = sigmoid(8+h_1)\n",
    "w = -1\n",
    "\n",
    "y_1 = sigmoid(-1*h_1 + 1)\n",
    "y_2 = sigmoid(-1*h_2 + 1)\n",
    "# print(h_1,h_2,y_1,y_2)\n",
    "\n",
    "dw = ( 2*(y_1)*y_1*(1-y_1)*h_1 + 2*(y_2 - 1)*y_2*(1-y_2)*h_2 )/2\n",
    "\n",
    "db2 = ( 2*(y_1)*y_1*(1-y_1) + 2*(y_2 - 1)*y_2*(1-y_2))/2\n",
    "\n",
    "w_h = 1\n",
    "# dwh = (y_1)*y_1*(1-y_1)*h_1 *(1-h_1)*h_0 + (y_2 - 1)*y_2*(1-y_2)*h_2*(1-h_2)*(h_1+w_h*h1*(1-h_1)*h_0)\n",
    "dwh = -(y_2 - 1)*y_2*(1-y_2)*h_2*(1-h_2)*h_1\n",
    "\n",
    "db1 = -y_1**2*(1-y_1)*h_1 *(1-h_1) + (y_2 - 1)**2 * y_2 *h_2*(1-h_2)*(1+ w_h*h_1*(1-h_1) )\n",
    "\n",
    "x_1 = -1\n",
    "x_2 = 2\n",
    "dwx = y_1*y_1*(1-y_1)*w*h_1 *(1-h_1)*x_1 + (y_2 - 1)* y_2*(1-y_2) * w *h_2*(1-h_2)*(x_2 + w_h *h_1*(1-h_1)*x_1 )\n",
    "\n",
    "dw, db2, dwh, db1, dwx"
   ]
  },
  {
   "cell_type": "code",
   "execution_count": 7,
   "metadata": {},
   "outputs": [
    {
     "name": "stdout",
     "output_type": "stream",
     "text": [
      "Verified by tensorflow (TODO compare values with your hand-written calculations):\n",
      "dw = -0.0851, db2 = 0.0231, dwx = 0.0292, dwh = 0.0000, db1 = -0.0291\n"
     ]
    }
   ],
   "source": [
    "# use tensorflow to verify the answer.\n",
    "with tf.GradientTape() as G:\n",
    "    w = tf.Variable(-1.0)\n",
    "    b2 = tf.Variable(1.0)\n",
    "    wx = tf.Variable(3.0)\n",
    "    wh = tf.Variable(1.0)\n",
    "    b1 = tf.Variable(2.0)\n",
    "\n",
    "    h0 = tf.Variable(0.0)\n",
    "    x = tf.Variable((-1.0,2.0))\n",
    "    g = tf.Variable((0.0, 1.0))\n",
    "\n",
    "    y = []\n",
    "    h1 = tf.sigmoid(wx*x[0] + wh*h0 + b1)\n",
    "    y.append(tf.sigmoid(w*h1 + b2))\n",
    "    h2 = tf.sigmoid(wx*x[1] + wh*h1 + b1)\n",
    "    y.append(tf.sigmoid(w*h2 + b2))\n",
    "\n",
    "    loss = 0.5*(tf.square(g[0]-y[0]) + tf.square(g[1]-y[1]))\n",
    "\n",
    "    dw_t, db2_t, dwx_t, dwh_t, db1_t = G.gradient(loss, [w, b2, wx, wh, b1])\n",
    "    \n",
    "\n",
    "print(\"Verified by tensorflow (TODO compare values with your hand-written calculations):\")\n",
    "print(\"dw = {:.4f}, db2 = {:.4f}, dwx = {:.4f}, dwh = {:.4f}, db1 = {:.4f}\".format(dw_t, db2_t, dwx_t, dwh_t, db1_t))"
   ]
  },
  {
   "cell_type": "markdown",
   "metadata": {},
   "source": [
    "## Part 2: Use TensorFlow modules to create XNOR network\n",
    "\n",
    "In this part, you need to build and train an XNOR network that can learn the XNOR function. It is a very simple implementation of RNN and will give you an idea how RNN is built and how to train it."
   ]
  },
  {
   "cell_type": "markdown",
   "metadata": {},
   "source": [
    "### XNOR network\n",
    "\n",
    "XNOR network can learn the XNOR ($\\odot$) function\n",
    "\n",
    "As shown in the figure below, and for instance, if input $(x_0, x_1, x_2, x_3, x_4, x_5, x_6, x_7)$=(0,0,1,1,1,1,1,0), then output $(y_1, y_2, y_3, y_4, y_5, y_6, y_7, y_8)$=(1,1,0,1,0,1,0,0). That is, $y_n = x_0\\odot x_1 \\odot ... \\odot x_{n-1}\\odot x_{n}$\n",
    "\n",
    "![xnor_net](./img/xnor.png)"
   ]
  },
  {
   "cell_type": "markdown",
   "metadata": {},
   "source": [
    "### Create a data set\n",
    "This function provides a way to generate the data which is needed for the training process. You should utilize it when building your training function for the GRU. Read the source code for more information."
   ]
  },
  {
   "cell_type": "code",
   "execution_count": 8,
   "metadata": {},
   "outputs": [],
   "source": [
    "from utils.xnor.dataset import create_xnor_dataset"
   ]
  },
  {
   "cell_type": "code",
   "execution_count": 9,
   "metadata": {},
   "outputs": [],
   "source": [
    "# create_xnor_dataset(1), create_xnor_dataset(1)[0].shape, create_xnor_dataset(1)[1].shape"
   ]
  },
  {
   "cell_type": "markdown",
   "metadata": {},
   "source": [
    "### Build a network using a TensorFlow LSTMCell and GRUCell\n",
    "In this section, you are asked to build a XNOR net using a TensorFlow LSTMCell and a GRUCell. In TensorFlow 2, these two cells are supported by Keras. Please check online documents below.\n",
    "\n",
    "Reference: \n",
    "1. [TensorFlow(Keras): Working with RNNs](https://keras.io/guides/working_with_rnns/)\n",
    "2. [TensorFlow: Recurrent Neural Networks (RNN) with Keras](https://www.tensorflow.org/guide/keras/rnn)\n",
    "3. [TensorFlow LSTM cell](https://www.tensorflow.org/api_docs/python/tf/keras/layers/LSTM)\n",
    "4. [TensorFlow GRU cell](https://www.tensorflow.org/api_docs/python/tf/keras/layers/GRU)\n",
    "5. [TensorFlow: Sequential Model](https://www.tensorflow.org/guide/keras/sequential_model)\n"
   ]
  },
  {
   "cell_type": "markdown",
   "metadata": {},
   "source": [
    "<span style=\"color:red\">TODO:</span>\n",
    "Use TensorFlow to build and train your XNOR net. The dataset is already provided. You will do the following:\n",
    "- Learn how to use **tf.keras.layers.LSTM** and **tf.keras.layers.GRU** in TensorFlow(Keras). \n",
    "- Choose appropriate parameters to build a model (Sequential Model in Keras is suggested). \n",
    "- Compile your model with appropriate loss function, optimizer, metrics, etc.\n",
    "- Train your model and see the loss history.\n",
    "\n",
    "Tips: \n",
    "1. Make sure that the shape of your data is corrrect after every step.\n",
    "2. Choose your loss function according to your network design.\n",
    "3. Choose 'accuracy' as your metrics when compiling your model.\n",
    "4. Make sure that names of history for the network with LSTMCell and GRUCell (which you used while training) are the same as the ones in the plotting functions.\n",
    "4. Feel free to ask TAs if you get stuck somewhere."
   ]
  },
  {
   "cell_type": "markdown",
   "metadata": {},
   "source": [
    "### Build a network with LSTM cell"
   ]
  },
  {
   "cell_type": "code",
   "execution_count": 10,
   "metadata": {
    "pycharm": {
     "is_executing": true
    }
   },
   "outputs": [],
   "source": [
    "in_data, out_data = create_xnor_dataset(1000) # create a dataset with a batch size of 1000"
   ]
  },
  {
   "cell_type": "code",
   "execution_count": 11,
   "metadata": {},
   "outputs": [],
   "source": [
    "# x_train = in_data.astype(\"float32\")[:800]\n",
    "# y_train = out_data.astype(\"float32\")[:800 ]# .reshape(1000,1,8)\n",
    "\n",
    "# x_val = in_data.astype(\"float32\")[800:]\n",
    "# y_val = out_data.astype(\"float32\")[800:]\n",
    "\n",
    "# y_train = to_categorical(y_train,2)\n",
    "\n",
    "x_train = in_data.astype(\"float32\")\n",
    "y_train = out_data.astype(\"float32\")# .reshape(1000,1,8)\n",
    "\n",
    "val = create_xnor_dataset(500)\n",
    "x_val = val[0].astype(\"float32\")\n",
    "y_val = val[1].astype(\"float32\")"
   ]
  },
  {
   "cell_type": "code",
   "execution_count": 12,
   "metadata": {},
   "outputs": [
    {
     "data": {
      "text/plain": [
       "((1000, 8), (1000, 8, 1))"
      ]
     },
     "execution_count": 12,
     "metadata": {},
     "output_type": "execute_result"
    }
   ],
   "source": [
    "y_train.shape, x_train.shape"
   ]
  },
  {
   "cell_type": "code",
   "execution_count": 16,
   "metadata": {
    "pycharm": {
     "is_executing": true
    }
   },
   "outputs": [
    {
     "name": "stdout",
     "output_type": "stream",
     "text": [
      "Epoch 1/15\n",
      "16/16 [==============================] - 1s 4ms/step - loss: 0.4907 - accuracy: 0.0090\n",
      "Epoch 2/15\n",
      "16/16 [==============================] - 0s 4ms/step - loss: 0.4901 - accuracy: 0.3780\n",
      "Epoch 3/15\n",
      "16/16 [==============================] - 0s 4ms/step - loss: 0.4838 - accuracy: 0.4830\n",
      "Epoch 4/15\n",
      "16/16 [==============================] - 0s 3ms/step - loss: 0.4573 - accuracy: 0.4880\n",
      "Epoch 5/15\n",
      "16/16 [==============================] - 0s 4ms/step - loss: 0.4211 - accuracy: 0.6520\n",
      "Epoch 6/15\n",
      "16/16 [==============================] - 0s 4ms/step - loss: 0.3946 - accuracy: 0.7770\n",
      "Epoch 7/15\n",
      "16/16 [==============================] - 0s 4ms/step - loss: 0.3843 - accuracy: 0.8600\n",
      "Epoch 8/15\n",
      "16/16 [==============================] - 0s 4ms/step - loss: 0.3794 - accuracy: 0.8690\n",
      "Epoch 9/15\n",
      "16/16 [==============================] - 0s 3ms/step - loss: 0.3764 - accuracy: 0.9070\n",
      "Epoch 10/15\n",
      "16/16 [==============================] - 0s 4ms/step - loss: 0.3726 - accuracy: 0.9250\n",
      "Epoch 11/15\n",
      "16/16 [==============================] - 0s 3ms/step - loss: 0.3720 - accuracy: 0.9090\n",
      "Epoch 12/15\n",
      "16/16 [==============================] - 0s 4ms/step - loss: 0.3711 - accuracy: 0.9130\n",
      "Epoch 13/15\n",
      "16/16 [==============================] - 0s 4ms/step - loss: 0.3702 - accuracy: 0.9240\n",
      "Epoch 14/15\n",
      "16/16 [==============================] - 0s 4ms/step - loss: 0.3699 - accuracy: 0.9270\n",
      "Epoch 15/15\n",
      "16/16 [==============================] - 0s 4ms/step - loss: 0.3695 - accuracy: 0.9260\n",
      "Model: \"sequential_2\"\n",
      "_________________________________________________________________\n",
      " Layer (type)                Output Shape              Param #   \n",
      "=================================================================\n",
      " lstm_2 (LSTM)               (None, 100)               40800     \n",
      "                                                                 \n",
      " dense_4 (Dense)             (None, 64)                6464      \n",
      "                                                                 \n",
      " dense_5 (Dense)             (None, 8)                 520       \n",
      "                                                                 \n",
      " activation_2 (Activation)   (None, 8)                 0         \n",
      "                                                                 \n",
      "=================================================================\n",
      "Total params: 47,784\n",
      "Trainable params: 47,784\n",
      "Non-trainable params: 0\n",
      "_________________________________________________________________\n"
     ]
    }
   ],
   "source": [
    "###################################################\n",
    "# TODO: build a network with LSTM cell and train it.#\n",
    "#                                                 #\n",
    "###################################################\n",
    "\n",
    "import keras\n",
    "from keras.layers import LSTM, Dense, Activation\n",
    "from tensorflow.keras.optimizers import SGD, Adam, RMSprop, Nadam\n",
    "\n",
    "\n",
    "model_LSTM = tf.keras.Sequential()\n",
    "model_LSTM.add(LSTM(100))\n",
    "model_LSTM.add(Dense(64,\"relu\"))\n",
    "model_LSTM.add(Dense(8))\n",
    "model_LSTM.add(Activation('softmax'))\n",
    "\n",
    "model_LSTM.compile(loss = \"mae\", # loss=\"categorical_crossentropy\",\n",
    "              optimizer=Adam(0.001),\n",
    "              metrics=['accuracy']) \n",
    "history_LSTM = model_LSTM.fit(x_train, y_train, batch_size=64, epochs=15) \n",
    "model_LSTM.summary() \n",
    "\n",
    "\n",
    "\n",
    "###################################################\n",
    "# END TODO                                        #\n",
    "###################################################"
   ]
  },
  {
   "cell_type": "code",
   "execution_count": 17,
   "metadata": {},
   "outputs": [
    {
     "name": "stdout",
     "output_type": "stream",
     "text": [
      "16/16 [==============================] - 0s 1ms/step - loss: 0.3877 - accuracy: 0.9600\n"
     ]
    },
    {
     "data": {
      "text/plain": [
       "[0.387693852186203, 0.9599999785423279]"
      ]
     },
     "execution_count": 17,
     "metadata": {},
     "output_type": "execute_result"
    }
   ],
   "source": [
    "# test \n",
    "# test_in_data, test_out_data = create_xnor_dataset(1000) \n",
    "\n",
    "model_LSTM.evaluate(x_val,y_val)"
   ]
  },
  {
   "cell_type": "markdown",
   "metadata": {},
   "source": [
    "#### Hint for creating a model with LSTM cells\n",
    "```\n",
    "model = tf.keras.Sequential() \n",
    "model.add(# insert layer 1)\n",
    "model.add(# insert layer 2) \n",
    "model.add(# insert more layers) \n",
    "model.add(# insert output layer)\n",
    "\n",
    "model.summary() \n",
    "model.compile(loss=#choose your loss function,\n",
    "              optimizer=#choose your optimizer with learning rate,\n",
    "              metrics=['accuracy']) \n",
    "history_LSTM = model.fit(in_data, out_data, batch_size=64, epochs=15) \n",
    "```"
   ]
  },
  {
   "cell_type": "markdown",
   "metadata": {},
   "source": [
    "### Build a network with GRU cell"
   ]
  },
  {
   "cell_type": "code",
   "execution_count": 18,
   "metadata": {},
   "outputs": [],
   "source": [
    "in_data, out_data = create_xnor_dataset(1000) # create a dataset with batch size of 1000"
   ]
  },
  {
   "cell_type": "code",
   "execution_count": 19,
   "metadata": {},
   "outputs": [
    {
     "name": "stdout",
     "output_type": "stream",
     "text": [
      "Epoch 1/15\n",
      "16/16 [==============================] - 1s 3ms/step - loss: 0.4908 - accuracy: 0.0470\n",
      "Epoch 2/15\n",
      "16/16 [==============================] - 0s 3ms/step - loss: 0.4904 - accuracy: 0.0020\n",
      "Epoch 3/15\n",
      "16/16 [==============================] - 0s 4ms/step - loss: 0.4902 - accuracy: 0.0570\n",
      "Epoch 4/15\n",
      "16/16 [==============================] - 0s 3ms/step - loss: 0.4896 - accuracy: 0.1230\n",
      "Epoch 5/15\n",
      "16/16 [==============================] - 0s 4ms/step - loss: 0.4849 - accuracy: 0.3660\n",
      "Epoch 6/15\n",
      "16/16 [==============================] - 0s 4ms/step - loss: 0.4552 - accuracy: 0.4730\n",
      "Epoch 7/15\n",
      "16/16 [==============================] - 0s 4ms/step - loss: 0.4085 - accuracy: 0.6500\n",
      "Epoch 8/15\n",
      "16/16 [==============================] - 0s 4ms/step - loss: 0.3987 - accuracy: 0.7020\n",
      "Epoch 9/15\n",
      "16/16 [==============================] - 0s 4ms/step - loss: 0.3926 - accuracy: 0.7580\n",
      "Epoch 10/15\n",
      "16/16 [==============================] - 0s 4ms/step - loss: 0.3812 - accuracy: 0.9080\n",
      "Epoch 11/15\n",
      "16/16 [==============================] - 0s 3ms/step - loss: 0.3755 - accuracy: 0.9050\n",
      "Epoch 12/15\n",
      "16/16 [==============================] - 0s 3ms/step - loss: 0.3734 - accuracy: 0.9100\n",
      "Epoch 13/15\n",
      "16/16 [==============================] - 0s 3ms/step - loss: 0.3725 - accuracy: 0.9170\n",
      "Epoch 14/15\n",
      "16/16 [==============================] - 0s 4ms/step - loss: 0.3715 - accuracy: 0.9310\n",
      "Epoch 15/15\n",
      "16/16 [==============================] - 0s 4ms/step - loss: 0.3715 - accuracy: 0.9200\n"
     ]
    }
   ],
   "source": [
    "###################################################\n",
    "# TODO: build a model with GRU cell and train it. #\n",
    "#                                                 #\n",
    "###################################################\n",
    "\n",
    "from keras.layers import GRU\n",
    "# from tensorflow.keras.optimizers import SGD, Adam, RMSprop, Nadam\n",
    "\n",
    "\n",
    "model_GRU = tf.keras.Sequential()\n",
    "\n",
    "model_GRU.add(GRU(100))\n",
    "model_GRU.add(Dense(64,\"tanh\"))\n",
    "model_GRU.add(Dense(8,\"softmax\"))\n",
    "\n",
    "\n",
    "model_GRU.compile(loss = \"mae\", # loss=\"categorical_crossentropy\",\n",
    "              optimizer=Adam(0.001),\n",
    "              metrics=['accuracy']) \n",
    "history_GRU = model_GRU.fit(x_train, y_train, batch_size=64, epochs=15) \n",
    "\n",
    "\n",
    "\n",
    "###################################################\n",
    "# END TODO                                        #\n",
    "###################################################"
   ]
  },
  {
   "cell_type": "code",
   "execution_count": 21,
   "metadata": {},
   "outputs": [
    {
     "name": "stdout",
     "output_type": "stream",
     "text": [
      "16/16 [==============================] - 0s 1ms/step - loss: 0.3897 - accuracy: 0.9080\n"
     ]
    },
    {
     "data": {
      "text/plain": [
       "[0.3896622359752655, 0.9079999923706055]"
      ]
     },
     "execution_count": 21,
     "metadata": {},
     "output_type": "execute_result"
    }
   ],
   "source": [
    "model_GRU.evaluate(x_val,y_val)"
   ]
  },
  {
   "cell_type": "markdown",
   "metadata": {},
   "source": [
    "#### Hint for creating a model with GRU cell\n",
    "```\n",
    "model = tf.keras.Sequential()\n",
    "model.add(# insert layer 1)\n",
    "model.add(# insert layer 2)\n",
    "model.add(# insert more layers)\n",
    "model.add(# insert output layer)\n",
    "\n",
    "model.summary()\n",
    "model.compile(loss=#choose your loss function,\n",
    "              optimizer=#choose your optimizer with learning rate,\n",
    "              metrics=['accuracy'])\n",
    "history_GRU = model.fit(in_data, out_data, batch_size=64, epochs=15)\n",
    "```"
   ]
  },
  {
   "cell_type": "markdown",
   "metadata": {},
   "source": [
    "### Visualize loss and accuracy"
   ]
  },
  {
   "cell_type": "code",
   "execution_count": 22,
   "metadata": {},
   "outputs": [
    {
     "data": {
      "image/png": "[encoded data removed]",
      "text/plain": [
       "<Figure size 432x288 with 1 Axes>"
      ]
     },
     "metadata": {
      "needs_background": "light"
     },
     "output_type": "display_data"
    }
   ],
   "source": [
    "plt.plot(history_LSTM.history['loss'], label='LSTM')\n",
    "plt.plot(history_GRU.history['loss'], label='GRU')\n",
    "plt.title('LSTM/GRU loss')\n",
    "plt.ylabel('loss')\n",
    "plt.xlabel('No. epoch')\n",
    "plt.legend(loc=\"upper left\")\n",
    "plt.show()"
   ]
  },
  {
   "cell_type": "code",
   "execution_count": 23,
   "metadata": {},
   "outputs": [
    {
     "data": {
      "image/png": "[encoded data removed]",
      "text/plain": [
       "<Figure size 432x288 with 1 Axes>"
      ]
     },
     "metadata": {
      "needs_background": "light"
     },
     "output_type": "display_data"
    }
   ],
   "source": [
    "plt.plot(history_LSTM.history['accuracy'], label='LSTM')\n",
    "plt.plot(history_GRU.history['accuracy'], label='GRU')\n",
    "plt.title('LSTM/GRU accuracy')\n",
    "plt.ylabel('accuracy')\n",
    "plt.xlabel('No. epoch')\n",
    "plt.legend(loc=\"upper left\")\n",
    "plt.show()"
   ]
  },
  {
   "cell_type": "markdown",
   "metadata": {},
   "source": [
    "<span style=\"color:red\">__TODO:__</span> Answer the question:"
   ]
  },
  {
   "cell_type": "markdown",
   "metadata": {},
   "source": [
    "Which part of this task have you been struggling with most of the  time? Describe how you resolved it."
   ]
  },
  {
   "cell_type": "markdown",
   "metadata": {},
   "source": [
    "<span style=\"color:red\">__SOLUTION:__</span>"
   ]
  },
  {
   "cell_type": "markdown",
   "metadata": {},
   "source": [
    "Understand input shape of each layers and choice of loss function. By checking the keras documents."
   ]
  },
  {
   "cell_type": "markdown",
   "metadata": {},
   "source": [
    "<span style=\"color:red\">__TODO:__</span> Answer the question:"
   ]
  },
  {
   "cell_type": "markdown",
   "metadata": {},
   "source": [
    "Which loss function did you use? Why?"
   ]
  },
  {
   "cell_type": "markdown",
   "metadata": {},
   "source": [
    "<span style=\"color:red\">__SOLUTION:__</span>"
   ]
  },
  {
   "cell_type": "markdown",
   "metadata": {},
   "source": [
    "Using MeanAbsoluteError. Since xor is a numerical funtion with output 0/1 and output is not categorical. So mean absolute error is more reasonable than mean square or categorical cross entropy."
   ]
  },
  {
   "cell_type": "markdown",
   "metadata": {},
   "source": [
    "## Part 3 :  Build your own LSTMCell\n",
    "In this part, you need to build your own LSTM cell to achieve the LSTM functionality (including different types of gates that constitute the cell).\n",
    "\n",
    "You should refer to the materials on how the LSTM cell works  - with its cell states, activation functions and kernels. \n",
    "<br>Please see the course slides or the website https://colah.github.io/posts/2015-08-Understanding-LSTMs/.\n",
    "\n",
    "<span style=\"color:red\">TODO:</span> \n",
    "1. Complete the function **LSTM_step** in utils/xnor/LSTM_step.py;\n",
    "2. Verify the function by running the provided code.\n",
    "3. Use the same way (as described above) to build the model and to train it.\n"
   ]
  },
  {
   "cell_type": "code",
   "execution_count": 24,
   "metadata": {},
   "outputs": [],
   "source": [
    "cell_inputs = np.ones((1,1))\n",
    "cell_states = [0.2*np.ones((1,64)), np.zeros((1,64))]\n",
    "kernel = 0.1*np.ones((1,256))\n",
    "recurrent_kernel = 0.1*np.ones((64,256))\n",
    "bias = np.zeros(256)"
   ]
  },
  {
   "cell_type": "code",
   "execution_count": 25,
   "metadata": {},
   "outputs": [
    {
     "name": "stdout",
     "output_type": "stream",
     "text": [
      "Simple verification:\n",
      "Is h correct? True\n",
      "Is c correct? True\n"
     ]
    }
   ],
   "source": [
    "from utils.xnor.LSTM_step import LSTM_step\n",
    "\n",
    "cell_inputs = np.ones((1,1))\n",
    "cell_states = [0.2*np.ones((1,64)), np.zeros((1,64))]\n",
    "kernel = 0.1*np.ones((1,256))\n",
    "recurrent_kernel = 0.1*np.ones((64,256))\n",
    "bias = np.zeros(256)\n",
    "\n",
    "h , [h,c] = LSTM_step(cell_inputs, cell_states, kernel, recurrent_kernel, bias)\n",
    "print('Simple verification:')\n",
    "print('Is h correct?', np.isclose(h.numpy()[0][0],0.48484358))\n",
    "print('Is c correct?', np.isclose(c.numpy()[0][0],0.70387213))"
   ]
  },
  {
   "cell_type": "code",
   "execution_count": 26,
   "metadata": {},
   "outputs": [],
   "source": [
    "in_data, out_data = create_xnor_dataset(1000)# create a dataset with a batch size of 1000"
   ]
  },
  {
   "cell_type": "code",
   "execution_count": 27,
   "metadata": {},
   "outputs": [
    {
     "name": "stdout",
     "output_type": "stream",
     "text": [
      "Epoch 1/15\n",
      "16/16 [==============================] - 1s 3ms/step - loss: 0.4907 - accuracy: 0.0780\n",
      "Epoch 2/15\n",
      "16/16 [==============================] - 0s 3ms/step - loss: 0.4898 - accuracy: 0.4510\n",
      "Epoch 3/15\n",
      "16/16 [==============================] - 0s 4ms/step - loss: 0.4832 - accuracy: 0.4800\n",
      "Epoch 4/15\n",
      "16/16 [==============================] - 0s 4ms/step - loss: 0.4591 - accuracy: 0.5240\n",
      "Epoch 5/15\n",
      "16/16 [==============================] - 0s 4ms/step - loss: 0.4330 - accuracy: 0.6070\n",
      "Epoch 6/15\n",
      "16/16 [==============================] - 0s 4ms/step - loss: 0.4069 - accuracy: 0.7870\n",
      "Epoch 7/15\n",
      "16/16 [==============================] - 0s 4ms/step - loss: 0.3976 - accuracy: 0.8120\n",
      "Epoch 8/15\n",
      "16/16 [==============================] - 0s 4ms/step - loss: 0.3920 - accuracy: 0.8630\n",
      "Epoch 9/15\n",
      "16/16 [==============================] - 0s 4ms/step - loss: 0.3854 - accuracy: 0.8980\n",
      "Epoch 10/15\n",
      "16/16 [==============================] - 0s 4ms/step - loss: 0.3803 - accuracy: 0.9470\n",
      "Epoch 11/15\n",
      "16/16 [==============================] - 0s 4ms/step - loss: 0.3777 - accuracy: 0.9460\n",
      "Epoch 12/15\n",
      "16/16 [==============================] - 0s 4ms/step - loss: 0.3762 - accuracy: 0.9430\n",
      "Epoch 13/15\n",
      "16/16 [==============================] - 0s 4ms/step - loss: 0.3753 - accuracy: 0.9470\n",
      "Epoch 14/15\n",
      "16/16 [==============================] - 0s 4ms/step - loss: 0.3745 - accuracy: 0.9480\n",
      "Epoch 15/15\n",
      "16/16 [==============================] - 0s 4ms/step - loss: 0.3740 - accuracy: 0.9480\n"
     ]
    }
   ],
   "source": [
    "###################################################\n",
    "# TODO: build a model with LSTM cell and train it.#\n",
    "#                                                 #\n",
    "###################################################\n",
    "\n",
    "\n",
    "\n",
    "model_LSTM_2 = tf.keras.Sequential()\n",
    "model_LSTM_2.add(LSTM(100))\n",
    "model_LSTM_2.add(Dense(16,\"tanh\"))\n",
    "model_LSTM_2.add(Dense(8))\n",
    "model_LSTM_2.add(Activation('softmax'))\n",
    "\n",
    "\n",
    "model_LSTM_2.compile(loss = \"mae\", # loss=\"categorical_crossentropy\",\n",
    "              optimizer=Adam(0.001),\n",
    "              metrics=['accuracy']) \n",
    "history = model_LSTM_2.fit(x_train, y_train, batch_size=64, epochs=15) \n",
    "\n",
    "###################################################\n",
    "# END TODO                                        #\n",
    "###################################################"
   ]
  },
  {
   "cell_type": "markdown",
   "metadata": {},
   "source": [
    "#### Hint for building a model with LSTM cell\n",
    "```\n",
    "model = tf.keras.Sequential()\n",
    "model.add(# insert layer 1)\n",
    "model.add(# insert layer 2)\n",
    "model.add(# insert more layers)\n",
    "model.add(# insert output layer)\n",
    "\n",
    "model.summary()\n",
    "model.compile(loss=#choose your loss function,\n",
    "              optimizer=#choose your optimizer with learning rate,\n",
    "              metrics=['accuracy'])\n",
    "history = model.fit(in_data, out_data, batch_size=64, epochs=15)\n",
    "```"
   ]
  },
  {
   "cell_type": "markdown",
   "metadata": {},
   "source": [
    "### Visualize loss and accuracy"
   ]
  },
  {
   "cell_type": "code",
   "execution_count": 28,
   "metadata": {},
   "outputs": [
    {
     "data": {
      "image/png": "[encoded data removed]",
      "text/plain": [
       "<Figure size 432x288 with 1 Axes>"
      ]
     },
     "metadata": {
      "needs_background": "light"
     },
     "output_type": "display_data"
    }
   ],
   "source": [
    "plt.plot(history.history['loss'], label='loss')\n",
    "plt.plot(history.history['accuracy'], label='accuracy')\n",
    "plt.title('Training history')\n",
    "plt.ylabel('value')\n",
    "plt.xlabel('No. epoch')\n",
    "plt.legend(loc=\"upper left\")\n",
    "plt.show()"
   ]
  },
  {
   "cell_type": "code",
   "execution_count": null,
   "metadata": {},
   "outputs": [],
   "source": []
  }
 ],
 "metadata": {
  "kernelspec": {
   "display_name": "Python 3",
   "language": "python",
   "name": "python3"
  },
  "language_info": {
   "codemirror_mode": {
    "name": "ipython",
    "version": 3
   },
   "file_extension": ".py",
   "mimetype": "text/x-python",
   "name": "python",
   "nbconvert_exporter": "python",
   "pygments_lexer": "ipython3",
   "version": "3.8.8"
  }
 },
 "nbformat": 4,
 "nbformat_minor": 4
}
